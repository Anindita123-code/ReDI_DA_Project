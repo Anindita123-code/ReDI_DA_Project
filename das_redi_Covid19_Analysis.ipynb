{
 "cells": [
  {
   "cell_type": "markdown",
   "metadata": {
    "slideshow": {
     "slide_type": "slide"
    }
   },
   "source": [
    "# Data Analytics Project - Covid19 data analysis for year 2020\n",
    "\n",
    "#### Covid19 has taken the world since 2020 and the data available on Covid on various sources are quite fascinating. This analysis is based on the dataset from Kaggle, which can be found using the following link\n",
    "\n",
    "[Dataset link](https://www.kaggle.com/shashwatwork/impact-of-covid19-pandemic-on-the-global-economy?select=raw_data.csv![image.png](attachment:image.png)\n",
    "\n",
    "Before we go into the details, we will go through some quick terms and their definitions to understand the contents of this data"
   ]
  },
  {
   "cell_type": "markdown",
   "metadata": {
    "slideshow": {
     "slide_type": "slide"
    }
   },
   "source": [
    "   1. GDP Per Capita\n",
    "        Per capita gross domestic product (GDP) is a metric that breaks down a country's economic output per person and is calculated by dividing the GDP of a country by its population.\n",
    "        \n",
    "   2. Stringency Metric\n",
    "        It provides a picture of the stage at which any country enforced its strongest measures.\n",
    "        Some countries saw their deaths just begin to flatten as they reached their highest stringency, such as Italy, Spain, or France.\n",
    "\n",
    "   3. Human Development Index\n",
    "        It is a summary measure of average achievement in key dimensions of human development: a long and healthy life, being knowledgeable and have a decent standard of living. ... The HDI is the geometric mean of normalized indices for each of the three dimensions."
   ]
  },
  {
   "cell_type": "markdown",
   "metadata": {
    "slideshow": {
     "slide_type": "subslide"
    }
   },
   "source": [
    "For Data Analytics, we have to import certain libraries, I have used Pandas, numpy, matplotlib & seaborn for analysis and visualization"
   ]
  },
  {
   "cell_type": "code",
   "execution_count": 37,
   "metadata": {
    "slideshow": {
     "slide_type": "skip"
    }
   },
   "outputs": [],
   "source": [
    "import pandas as pd\n",
    "import numpy as np\n",
    "\n",
    "import matplotlib.pyplot as plt\n",
    "import seaborn as sns\n",
    "from matplotlib.pyplot import figure\n"
   ]
  },
  {
   "cell_type": "markdown",
   "metadata": {
    "slideshow": {
     "slide_type": "slide"
    }
   },
   "source": [
    "The first look of my dataset..."
   ]
  },
  {
   "cell_type": "code",
   "execution_count": 38,
   "metadata": {
    "scrolled": true,
    "slideshow": {
     "slide_type": "subslide"
    }
   },
   "outputs": [
    {
     "data": {
      "text/html": [
       "<div>\n",
       "<style scoped>\n",
       "    .dataframe tbody tr th:only-of-type {\n",
       "        vertical-align: middle;\n",
       "    }\n",
       "\n",
       "    .dataframe tbody tr th {\n",
       "        vertical-align: top;\n",
       "    }\n",
       "\n",
       "    .dataframe thead th {\n",
       "        text-align: right;\n",
       "    }\n",
       "</style>\n",
       "<table border=\"1\" class=\"dataframe\">\n",
       "  <thead>\n",
       "    <tr style=\"text-align: right;\">\n",
       "      <th></th>\n",
       "      <th>iso_code</th>\n",
       "      <th>location</th>\n",
       "      <th>date</th>\n",
       "      <th>total_cases</th>\n",
       "      <th>total_deaths</th>\n",
       "      <th>stringency_index</th>\n",
       "      <th>population</th>\n",
       "      <th>gdp_per_capita</th>\n",
       "      <th>human_development_index</th>\n",
       "      <th>Unnamed: 9</th>\n",
       "      <th>Unnamed: 10</th>\n",
       "      <th>Unnamed: 11</th>\n",
       "      <th>Unnamed: 12</th>\n",
       "      <th>Unnamed: 13</th>\n",
       "    </tr>\n",
       "  </thead>\n",
       "  <tbody>\n",
       "    <tr>\n",
       "      <th>0</th>\n",
       "      <td>AFG</td>\n",
       "      <td>Afghanistan</td>\n",
       "      <td>2019-12-31</td>\n",
       "      <td>0.0</td>\n",
       "      <td>0.0</td>\n",
       "      <td>0.0</td>\n",
       "      <td>38928341</td>\n",
       "      <td>1803.987</td>\n",
       "      <td>0.498</td>\n",
       "      <td>#NUM!</td>\n",
       "      <td>#NUM!</td>\n",
       "      <td>#NUM!</td>\n",
       "      <td>17.477233</td>\n",
       "      <td>7.497754494</td>\n",
       "    </tr>\n",
       "    <tr>\n",
       "      <th>1</th>\n",
       "      <td>AFG</td>\n",
       "      <td>Afghanistan</td>\n",
       "      <td>2020-01-01</td>\n",
       "      <td>0.0</td>\n",
       "      <td>0.0</td>\n",
       "      <td>0.0</td>\n",
       "      <td>38928341</td>\n",
       "      <td>1803.987</td>\n",
       "      <td>0.498</td>\n",
       "      <td>#NUM!</td>\n",
       "      <td>#NUM!</td>\n",
       "      <td>#NUM!</td>\n",
       "      <td>17.477233</td>\n",
       "      <td>7.497754494</td>\n",
       "    </tr>\n",
       "    <tr>\n",
       "      <th>2</th>\n",
       "      <td>AFG</td>\n",
       "      <td>Afghanistan</td>\n",
       "      <td>2020-01-02</td>\n",
       "      <td>0.0</td>\n",
       "      <td>0.0</td>\n",
       "      <td>0.0</td>\n",
       "      <td>38928341</td>\n",
       "      <td>1803.987</td>\n",
       "      <td>0.498</td>\n",
       "      <td>#NUM!</td>\n",
       "      <td>#NUM!</td>\n",
       "      <td>#NUM!</td>\n",
       "      <td>17.477233</td>\n",
       "      <td>7.497754494</td>\n",
       "    </tr>\n",
       "    <tr>\n",
       "      <th>3</th>\n",
       "      <td>AFG</td>\n",
       "      <td>Afghanistan</td>\n",
       "      <td>2020-01-03</td>\n",
       "      <td>0.0</td>\n",
       "      <td>0.0</td>\n",
       "      <td>0.0</td>\n",
       "      <td>38928341</td>\n",
       "      <td>1803.987</td>\n",
       "      <td>0.498</td>\n",
       "      <td>#NUM!</td>\n",
       "      <td>#NUM!</td>\n",
       "      <td>#NUM!</td>\n",
       "      <td>17.477233</td>\n",
       "      <td>7.497754494</td>\n",
       "    </tr>\n",
       "    <tr>\n",
       "      <th>4</th>\n",
       "      <td>AFG</td>\n",
       "      <td>Afghanistan</td>\n",
       "      <td>2020-01-04</td>\n",
       "      <td>0.0</td>\n",
       "      <td>0.0</td>\n",
       "      <td>0.0</td>\n",
       "      <td>38928341</td>\n",
       "      <td>1803.987</td>\n",
       "      <td>0.498</td>\n",
       "      <td>#NUM!</td>\n",
       "      <td>#NUM!</td>\n",
       "      <td>#NUM!</td>\n",
       "      <td>17.477233</td>\n",
       "      <td>7.497754494</td>\n",
       "    </tr>\n",
       "    <tr>\n",
       "      <th>5</th>\n",
       "      <td>AFG</td>\n",
       "      <td>Afghanistan</td>\n",
       "      <td>2020-01-05</td>\n",
       "      <td>0.0</td>\n",
       "      <td>0.0</td>\n",
       "      <td>0.0</td>\n",
       "      <td>38928341</td>\n",
       "      <td>1803.987</td>\n",
       "      <td>0.498</td>\n",
       "      <td>#NUM!</td>\n",
       "      <td>#NUM!</td>\n",
       "      <td>#NUM!</td>\n",
       "      <td>17.477233</td>\n",
       "      <td>7.497754494</td>\n",
       "    </tr>\n",
       "    <tr>\n",
       "      <th>6</th>\n",
       "      <td>AFG</td>\n",
       "      <td>Afghanistan</td>\n",
       "      <td>2020-01-06</td>\n",
       "      <td>0.0</td>\n",
       "      <td>0.0</td>\n",
       "      <td>0.0</td>\n",
       "      <td>38928341</td>\n",
       "      <td>1803.987</td>\n",
       "      <td>0.498</td>\n",
       "      <td>#NUM!</td>\n",
       "      <td>#NUM!</td>\n",
       "      <td>#NUM!</td>\n",
       "      <td>17.477233</td>\n",
       "      <td>7.497754494</td>\n",
       "    </tr>\n",
       "    <tr>\n",
       "      <th>7</th>\n",
       "      <td>AFG</td>\n",
       "      <td>Afghanistan</td>\n",
       "      <td>2020-01-07</td>\n",
       "      <td>0.0</td>\n",
       "      <td>0.0</td>\n",
       "      <td>0.0</td>\n",
       "      <td>38928341</td>\n",
       "      <td>1803.987</td>\n",
       "      <td>0.498</td>\n",
       "      <td>#NUM!</td>\n",
       "      <td>#NUM!</td>\n",
       "      <td>#NUM!</td>\n",
       "      <td>17.477233</td>\n",
       "      <td>7.497754494</td>\n",
       "    </tr>\n",
       "    <tr>\n",
       "      <th>8</th>\n",
       "      <td>AFG</td>\n",
       "      <td>Afghanistan</td>\n",
       "      <td>2020-01-08</td>\n",
       "      <td>0.0</td>\n",
       "      <td>0.0</td>\n",
       "      <td>0.0</td>\n",
       "      <td>38928341</td>\n",
       "      <td>1803.987</td>\n",
       "      <td>0.498</td>\n",
       "      <td>#NUM!</td>\n",
       "      <td>#NUM!</td>\n",
       "      <td>#NUM!</td>\n",
       "      <td>17.477233</td>\n",
       "      <td>7.497754494</td>\n",
       "    </tr>\n",
       "    <tr>\n",
       "      <th>9</th>\n",
       "      <td>AFG</td>\n",
       "      <td>Afghanistan</td>\n",
       "      <td>2020-01-09</td>\n",
       "      <td>0.0</td>\n",
       "      <td>0.0</td>\n",
       "      <td>0.0</td>\n",
       "      <td>38928341</td>\n",
       "      <td>1803.987</td>\n",
       "      <td>0.498</td>\n",
       "      <td>#NUM!</td>\n",
       "      <td>#NUM!</td>\n",
       "      <td>#NUM!</td>\n",
       "      <td>17.477233</td>\n",
       "      <td>7.497754494</td>\n",
       "    </tr>\n",
       "  </tbody>\n",
       "</table>\n",
       "</div>"
      ],
      "text/plain": [
       "  iso_code     location        date  total_cases  total_deaths  \\\n",
       "0      AFG  Afghanistan  2019-12-31          0.0           0.0   \n",
       "1      AFG  Afghanistan  2020-01-01          0.0           0.0   \n",
       "2      AFG  Afghanistan  2020-01-02          0.0           0.0   \n",
       "3      AFG  Afghanistan  2020-01-03          0.0           0.0   \n",
       "4      AFG  Afghanistan  2020-01-04          0.0           0.0   \n",
       "5      AFG  Afghanistan  2020-01-05          0.0           0.0   \n",
       "6      AFG  Afghanistan  2020-01-06          0.0           0.0   \n",
       "7      AFG  Afghanistan  2020-01-07          0.0           0.0   \n",
       "8      AFG  Afghanistan  2020-01-08          0.0           0.0   \n",
       "9      AFG  Afghanistan  2020-01-09          0.0           0.0   \n",
       "\n",
       "   stringency_index  population  gdp_per_capita  human_development_index  \\\n",
       "0               0.0    38928341        1803.987                    0.498   \n",
       "1               0.0    38928341        1803.987                    0.498   \n",
       "2               0.0    38928341        1803.987                    0.498   \n",
       "3               0.0    38928341        1803.987                    0.498   \n",
       "4               0.0    38928341        1803.987                    0.498   \n",
       "5               0.0    38928341        1803.987                    0.498   \n",
       "6               0.0    38928341        1803.987                    0.498   \n",
       "7               0.0    38928341        1803.987                    0.498   \n",
       "8               0.0    38928341        1803.987                    0.498   \n",
       "9               0.0    38928341        1803.987                    0.498   \n",
       "\n",
       "  Unnamed: 9 Unnamed: 10 Unnamed: 11  Unnamed: 12  Unnamed: 13  \n",
       "0      #NUM!       #NUM!       #NUM!    17.477233  7.497754494  \n",
       "1      #NUM!       #NUM!       #NUM!    17.477233  7.497754494  \n",
       "2      #NUM!       #NUM!       #NUM!    17.477233  7.497754494  \n",
       "3      #NUM!       #NUM!       #NUM!    17.477233  7.497754494  \n",
       "4      #NUM!       #NUM!       #NUM!    17.477233  7.497754494  \n",
       "5      #NUM!       #NUM!       #NUM!    17.477233  7.497754494  \n",
       "6      #NUM!       #NUM!       #NUM!    17.477233  7.497754494  \n",
       "7      #NUM!       #NUM!       #NUM!    17.477233  7.497754494  \n",
       "8      #NUM!       #NUM!       #NUM!    17.477233  7.497754494  \n",
       "9      #NUM!       #NUM!       #NUM!    17.477233  7.497754494  "
      ]
     },
     "execution_count": 38,
     "metadata": {},
     "output_type": "execute_result"
    }
   ],
   "source": [
    "# Basic Analysis of the raw dataset\n",
    "\n",
    "pandemic_df = pd.read_csv('dataset/raw_data.csv')\n",
    "pandemic_df.head(10)"
   ]
  },
  {
   "cell_type": "code",
   "execution_count": 39,
   "metadata": {
    "slideshow": {
     "slide_type": "subslide"
    }
   },
   "outputs": [
    {
     "data": {
      "text/plain": [
       "(50418, 14)"
      ]
     },
     "execution_count": 39,
     "metadata": {},
     "output_type": "execute_result"
    }
   ],
   "source": [
    "# number of rows and columns in the raw dataset\n",
    "pandemic_df.shape"
   ]
  },
  {
   "cell_type": "code",
   "execution_count": 40,
   "metadata": {
    "slideshow": {
     "slide_type": "skip"
    }
   },
   "outputs": [
    {
     "data": {
      "text/plain": [
       "iso_code                    object\n",
       "location                    object\n",
       "date                        object\n",
       "total_cases                float64\n",
       "total_deaths               float64\n",
       "stringency_index           float64\n",
       "population                   int64\n",
       "gdp_per_capita             float64\n",
       "human_development_index    float64\n",
       "Unnamed: 9                  object\n",
       "Unnamed: 10                 object\n",
       "Unnamed: 11                 object\n",
       "Unnamed: 12                float64\n",
       "Unnamed: 13                 object\n",
       "dtype: object"
      ]
     },
     "execution_count": 40,
     "metadata": {},
     "output_type": "execute_result"
    }
   ],
   "source": [
    "pandemic_df.dtypes"
   ]
  },
  {
   "cell_type": "markdown",
   "metadata": {
    "slideshow": {
     "slide_type": "slide"
    }
   },
   "source": [
    "## Cleaning the dataset\n",
    "### The above dataset contains some extra columns to the right, which seem to be generated and will not be included as part of the analysis, hence we can safely drop those columns."
   ]
  },
  {
   "cell_type": "code",
   "execution_count": 41,
   "metadata": {
    "slideshow": {
     "slide_type": "subslide"
    }
   },
   "outputs": [
    {
     "data": {
      "text/html": [
       "<div>\n",
       "<style scoped>\n",
       "    .dataframe tbody tr th:only-of-type {\n",
       "        vertical-align: middle;\n",
       "    }\n",
       "\n",
       "    .dataframe tbody tr th {\n",
       "        vertical-align: top;\n",
       "    }\n",
       "\n",
       "    .dataframe thead th {\n",
       "        text-align: right;\n",
       "    }\n",
       "</style>\n",
       "<table border=\"1\" class=\"dataframe\">\n",
       "  <thead>\n",
       "    <tr style=\"text-align: right;\">\n",
       "      <th></th>\n",
       "      <th>iso_code</th>\n",
       "      <th>location</th>\n",
       "      <th>date</th>\n",
       "      <th>total_cases</th>\n",
       "      <th>total_deaths</th>\n",
       "      <th>stringency_index</th>\n",
       "      <th>population</th>\n",
       "      <th>gdp_per_capita</th>\n",
       "      <th>human_development_index</th>\n",
       "    </tr>\n",
       "  </thead>\n",
       "  <tbody>\n",
       "    <tr>\n",
       "      <th>0</th>\n",
       "      <td>AFG</td>\n",
       "      <td>Afghanistan</td>\n",
       "      <td>2019-12-31</td>\n",
       "      <td>0.0</td>\n",
       "      <td>0.0</td>\n",
       "      <td>0.00</td>\n",
       "      <td>38928341</td>\n",
       "      <td>1803.987</td>\n",
       "      <td>0.498</td>\n",
       "    </tr>\n",
       "    <tr>\n",
       "      <th>1</th>\n",
       "      <td>AFG</td>\n",
       "      <td>Afghanistan</td>\n",
       "      <td>2020-01-01</td>\n",
       "      <td>0.0</td>\n",
       "      <td>0.0</td>\n",
       "      <td>0.00</td>\n",
       "      <td>38928341</td>\n",
       "      <td>1803.987</td>\n",
       "      <td>0.498</td>\n",
       "    </tr>\n",
       "    <tr>\n",
       "      <th>2</th>\n",
       "      <td>AFG</td>\n",
       "      <td>Afghanistan</td>\n",
       "      <td>2020-01-02</td>\n",
       "      <td>0.0</td>\n",
       "      <td>0.0</td>\n",
       "      <td>0.00</td>\n",
       "      <td>38928341</td>\n",
       "      <td>1803.987</td>\n",
       "      <td>0.498</td>\n",
       "    </tr>\n",
       "    <tr>\n",
       "      <th>3</th>\n",
       "      <td>AFG</td>\n",
       "      <td>Afghanistan</td>\n",
       "      <td>2020-01-03</td>\n",
       "      <td>0.0</td>\n",
       "      <td>0.0</td>\n",
       "      <td>0.00</td>\n",
       "      <td>38928341</td>\n",
       "      <td>1803.987</td>\n",
       "      <td>0.498</td>\n",
       "    </tr>\n",
       "    <tr>\n",
       "      <th>4</th>\n",
       "      <td>AFG</td>\n",
       "      <td>Afghanistan</td>\n",
       "      <td>2020-01-04</td>\n",
       "      <td>0.0</td>\n",
       "      <td>0.0</td>\n",
       "      <td>0.00</td>\n",
       "      <td>38928341</td>\n",
       "      <td>1803.987</td>\n",
       "      <td>0.498</td>\n",
       "    </tr>\n",
       "    <tr>\n",
       "      <th>...</th>\n",
       "      <td>...</td>\n",
       "      <td>...</td>\n",
       "      <td>...</td>\n",
       "      <td>...</td>\n",
       "      <td>...</td>\n",
       "      <td>...</td>\n",
       "      <td>...</td>\n",
       "      <td>...</td>\n",
       "      <td>...</td>\n",
       "    </tr>\n",
       "    <tr>\n",
       "      <th>50413</th>\n",
       "      <td>ZWE</td>\n",
       "      <td>Zimbabwe</td>\n",
       "      <td>2020-10-15</td>\n",
       "      <td>8055.0</td>\n",
       "      <td>231.0</td>\n",
       "      <td>76.85</td>\n",
       "      <td>14862927</td>\n",
       "      <td>1899.775</td>\n",
       "      <td>0.535</td>\n",
       "    </tr>\n",
       "    <tr>\n",
       "      <th>50414</th>\n",
       "      <td>ZWE</td>\n",
       "      <td>Zimbabwe</td>\n",
       "      <td>2020-10-16</td>\n",
       "      <td>8075.0</td>\n",
       "      <td>231.0</td>\n",
       "      <td>76.85</td>\n",
       "      <td>14862927</td>\n",
       "      <td>1899.775</td>\n",
       "      <td>0.535</td>\n",
       "    </tr>\n",
       "    <tr>\n",
       "      <th>50415</th>\n",
       "      <td>ZWE</td>\n",
       "      <td>Zimbabwe</td>\n",
       "      <td>2020-10-17</td>\n",
       "      <td>8099.0</td>\n",
       "      <td>231.0</td>\n",
       "      <td>76.85</td>\n",
       "      <td>14862927</td>\n",
       "      <td>1899.775</td>\n",
       "      <td>0.535</td>\n",
       "    </tr>\n",
       "    <tr>\n",
       "      <th>50416</th>\n",
       "      <td>ZWE</td>\n",
       "      <td>Zimbabwe</td>\n",
       "      <td>2020-10-18</td>\n",
       "      <td>8110.0</td>\n",
       "      <td>231.0</td>\n",
       "      <td>76.85</td>\n",
       "      <td>14862927</td>\n",
       "      <td>1899.775</td>\n",
       "      <td>0.535</td>\n",
       "    </tr>\n",
       "    <tr>\n",
       "      <th>50417</th>\n",
       "      <td>ZWE</td>\n",
       "      <td>Zimbabwe</td>\n",
       "      <td>2020-10-19</td>\n",
       "      <td>8147.0</td>\n",
       "      <td>231.0</td>\n",
       "      <td>76.85</td>\n",
       "      <td>14862927</td>\n",
       "      <td>1899.775</td>\n",
       "      <td>0.535</td>\n",
       "    </tr>\n",
       "  </tbody>\n",
       "</table>\n",
       "<p>50418 rows × 9 columns</p>\n",
       "</div>"
      ],
      "text/plain": [
       "      iso_code     location        date  total_cases  total_deaths  \\\n",
       "0          AFG  Afghanistan  2019-12-31          0.0           0.0   \n",
       "1          AFG  Afghanistan  2020-01-01          0.0           0.0   \n",
       "2          AFG  Afghanistan  2020-01-02          0.0           0.0   \n",
       "3          AFG  Afghanistan  2020-01-03          0.0           0.0   \n",
       "4          AFG  Afghanistan  2020-01-04          0.0           0.0   \n",
       "...        ...          ...         ...          ...           ...   \n",
       "50413      ZWE     Zimbabwe  2020-10-15       8055.0         231.0   \n",
       "50414      ZWE     Zimbabwe  2020-10-16       8075.0         231.0   \n",
       "50415      ZWE     Zimbabwe  2020-10-17       8099.0         231.0   \n",
       "50416      ZWE     Zimbabwe  2020-10-18       8110.0         231.0   \n",
       "50417      ZWE     Zimbabwe  2020-10-19       8147.0         231.0   \n",
       "\n",
       "       stringency_index  population  gdp_per_capita  human_development_index  \n",
       "0                  0.00    38928341        1803.987                    0.498  \n",
       "1                  0.00    38928341        1803.987                    0.498  \n",
       "2                  0.00    38928341        1803.987                    0.498  \n",
       "3                  0.00    38928341        1803.987                    0.498  \n",
       "4                  0.00    38928341        1803.987                    0.498  \n",
       "...                 ...         ...             ...                      ...  \n",
       "50413             76.85    14862927        1899.775                    0.535  \n",
       "50414             76.85    14862927        1899.775                    0.535  \n",
       "50415             76.85    14862927        1899.775                    0.535  \n",
       "50416             76.85    14862927        1899.775                    0.535  \n",
       "50417             76.85    14862927        1899.775                    0.535  \n",
       "\n",
       "[50418 rows x 9 columns]"
      ]
     },
     "execution_count": 41,
     "metadata": {},
     "output_type": "execute_result"
    }
   ],
   "source": [
    "# drop the last 5 columns of the dataset as they show some computed value which is not required for analysis\n",
    "pandemic_df.drop(columns = ['Unnamed: 9', 'Unnamed: 10', 'Unnamed: 11', 'Unnamed: 12', 'Unnamed: 13'], axis = 1, inplace = True)\n",
    "pandemic_df"
   ]
  },
  {
   "cell_type": "markdown",
   "metadata": {
    "slideshow": {
     "slide_type": "subslide"
    }
   },
   "source": [
    "## Dealing with null values in the dataset"
   ]
  },
  {
   "cell_type": "code",
   "execution_count": 42,
   "metadata": {
    "slideshow": {
     "slide_type": "fragment"
    }
   },
   "outputs": [
    {
     "data": {
      "text/plain": [
       "True"
      ]
     },
     "execution_count": 42,
     "metadata": {},
     "output_type": "execute_result"
    }
   ],
   "source": [
    "# checking if there is a null value in any of the rows of the dataset\n",
    "pandemic_df.isnull().values.any()"
   ]
  },
  {
   "cell_type": "code",
   "execution_count": 43,
   "metadata": {
    "slideshow": {
     "slide_type": "fragment"
    }
   },
   "outputs": [
    {
     "data": {
      "text/plain": [
       "iso_code                       0\n",
       "location                       0\n",
       "date                           0\n",
       "total_cases                 3094\n",
       "total_deaths               11190\n",
       "stringency_index            7126\n",
       "population                     0\n",
       "gdp_per_capita              5712\n",
       "human_development_index     6202\n",
       "dtype: int64"
      ]
     },
     "execution_count": 43,
     "metadata": {},
     "output_type": "execute_result"
    }
   ],
   "source": [
    "# finding the number of null values in each column\n",
    "pandemic_df.isnull().sum()"
   ]
  },
  {
   "cell_type": "code",
   "execution_count": 44,
   "metadata": {
    "slideshow": {
     "slide_type": "skip"
    }
   },
   "outputs": [
    {
     "data": {
      "text/html": [
       "<div>\n",
       "<style scoped>\n",
       "    .dataframe tbody tr th:only-of-type {\n",
       "        vertical-align: middle;\n",
       "    }\n",
       "\n",
       "    .dataframe tbody tr th {\n",
       "        vertical-align: top;\n",
       "    }\n",
       "\n",
       "    .dataframe thead th {\n",
       "        text-align: right;\n",
       "    }\n",
       "</style>\n",
       "<table border=\"1\" class=\"dataframe\">\n",
       "  <thead>\n",
       "    <tr style=\"text-align: right;\">\n",
       "      <th></th>\n",
       "      <th>iso_code</th>\n",
       "      <th>location</th>\n",
       "      <th>date</th>\n",
       "      <th>total_cases</th>\n",
       "      <th>total_deaths</th>\n",
       "      <th>stringency_index</th>\n",
       "      <th>population</th>\n",
       "      <th>gdp_per_capita</th>\n",
       "      <th>human_development_index</th>\n",
       "    </tr>\n",
       "  </thead>\n",
       "  <tbody>\n",
       "    <tr>\n",
       "      <th>280</th>\n",
       "      <td>AFG</td>\n",
       "      <td>Afghanistan</td>\n",
       "      <td>2020-10-06</td>\n",
       "      <td>39486.0</td>\n",
       "      <td>1467.0</td>\n",
       "      <td>NaN</td>\n",
       "      <td>38928341</td>\n",
       "      <td>1803.987</td>\n",
       "      <td>0.498</td>\n",
       "    </tr>\n",
       "    <tr>\n",
       "      <th>281</th>\n",
       "      <td>AFG</td>\n",
       "      <td>Afghanistan</td>\n",
       "      <td>2020-10-07</td>\n",
       "      <td>39548.0</td>\n",
       "      <td>1469.0</td>\n",
       "      <td>NaN</td>\n",
       "      <td>38928341</td>\n",
       "      <td>1803.987</td>\n",
       "      <td>0.498</td>\n",
       "    </tr>\n",
       "    <tr>\n",
       "      <th>282</th>\n",
       "      <td>AFG</td>\n",
       "      <td>Afghanistan</td>\n",
       "      <td>2020-10-08</td>\n",
       "      <td>39616.0</td>\n",
       "      <td>1470.0</td>\n",
       "      <td>NaN</td>\n",
       "      <td>38928341</td>\n",
       "      <td>1803.987</td>\n",
       "      <td>0.498</td>\n",
       "    </tr>\n",
       "    <tr>\n",
       "      <th>283</th>\n",
       "      <td>AFG</td>\n",
       "      <td>Afghanistan</td>\n",
       "      <td>2020-10-09</td>\n",
       "      <td>39693.0</td>\n",
       "      <td>1472.0</td>\n",
       "      <td>NaN</td>\n",
       "      <td>38928341</td>\n",
       "      <td>1803.987</td>\n",
       "      <td>0.498</td>\n",
       "    </tr>\n",
       "    <tr>\n",
       "      <th>284</th>\n",
       "      <td>AFG</td>\n",
       "      <td>Afghanistan</td>\n",
       "      <td>2020-10-10</td>\n",
       "      <td>39703.0</td>\n",
       "      <td>1473.0</td>\n",
       "      <td>NaN</td>\n",
       "      <td>38928341</td>\n",
       "      <td>1803.987</td>\n",
       "      <td>0.498</td>\n",
       "    </tr>\n",
       "    <tr>\n",
       "      <th>...</th>\n",
       "      <td>...</td>\n",
       "      <td>...</td>\n",
       "      <td>...</td>\n",
       "      <td>...</td>\n",
       "      <td>...</td>\n",
       "      <td>...</td>\n",
       "      <td>...</td>\n",
       "      <td>...</td>\n",
       "      <td>...</td>\n",
       "    </tr>\n",
       "    <tr>\n",
       "      <th>50203</th>\n",
       "      <td>ZMB</td>\n",
       "      <td>Zambia</td>\n",
       "      <td>2020-10-18</td>\n",
       "      <td>15789.0</td>\n",
       "      <td>346.0</td>\n",
       "      <td>NaN</td>\n",
       "      <td>18383956</td>\n",
       "      <td>3689.251</td>\n",
       "      <td>0.588</td>\n",
       "    </tr>\n",
       "    <tr>\n",
       "      <th>50204</th>\n",
       "      <td>ZMB</td>\n",
       "      <td>Zambia</td>\n",
       "      <td>2020-10-19</td>\n",
       "      <td>15853.0</td>\n",
       "      <td>346.0</td>\n",
       "      <td>NaN</td>\n",
       "      <td>18383956</td>\n",
       "      <td>3689.251</td>\n",
       "      <td>0.588</td>\n",
       "    </tr>\n",
       "    <tr>\n",
       "      <th>50205</th>\n",
       "      <td>ZWE</td>\n",
       "      <td>Zimbabwe</td>\n",
       "      <td>2020-03-21</td>\n",
       "      <td>1.0</td>\n",
       "      <td>NaN</td>\n",
       "      <td>27.78</td>\n",
       "      <td>14862927</td>\n",
       "      <td>1899.775</td>\n",
       "      <td>0.535</td>\n",
       "    </tr>\n",
       "    <tr>\n",
       "      <th>50206</th>\n",
       "      <td>ZWE</td>\n",
       "      <td>Zimbabwe</td>\n",
       "      <td>2020-03-22</td>\n",
       "      <td>2.0</td>\n",
       "      <td>NaN</td>\n",
       "      <td>27.78</td>\n",
       "      <td>14862927</td>\n",
       "      <td>1899.775</td>\n",
       "      <td>0.535</td>\n",
       "    </tr>\n",
       "    <tr>\n",
       "      <th>50207</th>\n",
       "      <td>ZWE</td>\n",
       "      <td>Zimbabwe</td>\n",
       "      <td>2020-03-23</td>\n",
       "      <td>2.0</td>\n",
       "      <td>NaN</td>\n",
       "      <td>45.37</td>\n",
       "      <td>14862927</td>\n",
       "      <td>1899.775</td>\n",
       "      <td>0.535</td>\n",
       "    </tr>\n",
       "  </tbody>\n",
       "</table>\n",
       "<p>18900 rows × 9 columns</p>\n",
       "</div>"
      ],
      "text/plain": [
       "      iso_code     location        date  total_cases  total_deaths  \\\n",
       "280        AFG  Afghanistan  2020-10-06      39486.0        1467.0   \n",
       "281        AFG  Afghanistan  2020-10-07      39548.0        1469.0   \n",
       "282        AFG  Afghanistan  2020-10-08      39616.0        1470.0   \n",
       "283        AFG  Afghanistan  2020-10-09      39693.0        1472.0   \n",
       "284        AFG  Afghanistan  2020-10-10      39703.0        1473.0   \n",
       "...        ...          ...         ...          ...           ...   \n",
       "50203      ZMB       Zambia  2020-10-18      15789.0         346.0   \n",
       "50204      ZMB       Zambia  2020-10-19      15853.0         346.0   \n",
       "50205      ZWE     Zimbabwe  2020-03-21          1.0           NaN   \n",
       "50206      ZWE     Zimbabwe  2020-03-22          2.0           NaN   \n",
       "50207      ZWE     Zimbabwe  2020-03-23          2.0           NaN   \n",
       "\n",
       "       stringency_index  population  gdp_per_capita  human_development_index  \n",
       "280                 NaN    38928341        1803.987                    0.498  \n",
       "281                 NaN    38928341        1803.987                    0.498  \n",
       "282                 NaN    38928341        1803.987                    0.498  \n",
       "283                 NaN    38928341        1803.987                    0.498  \n",
       "284                 NaN    38928341        1803.987                    0.498  \n",
       "...                 ...         ...             ...                      ...  \n",
       "50203               NaN    18383956        3689.251                    0.588  \n",
       "50204               NaN    18383956        3689.251                    0.588  \n",
       "50205             27.78    14862927        1899.775                    0.535  \n",
       "50206             27.78    14862927        1899.775                    0.535  \n",
       "50207             45.37    14862927        1899.775                    0.535  \n",
       "\n",
       "[18900 rows x 9 columns]"
      ]
     },
     "execution_count": 44,
     "metadata": {},
     "output_type": "execute_result"
    }
   ],
   "source": [
    "# print the rows which has null values\n",
    "null_df = pandemic_df[pandemic_df.isna().any(axis=1)]\n",
    "null_df"
   ]
  },
  {
   "cell_type": "code",
   "execution_count": 45,
   "metadata": {
    "slideshow": {
     "slide_type": "skip"
    }
   },
   "outputs": [
    {
     "data": {
      "text/plain": [
       "Index(['iso_code', 'location', 'date', 'total_cases', 'total_deaths',\n",
       "       'stringency_index', 'population', 'gdp_per_capita',\n",
       "       'human_development_index'],\n",
       "      dtype='object')"
      ]
     },
     "execution_count": 45,
     "metadata": {},
     "output_type": "execute_result"
    }
   ],
   "source": [
    "# column names of dataset\n",
    "pandemic_df.columns"
   ]
  },
  {
   "cell_type": "markdown",
   "metadata": {
    "slideshow": {
     "slide_type": "subslide"
    }
   },
   "source": [
    "### Getting the data ready for doing some analysis"
   ]
  },
  {
   "cell_type": "code",
   "execution_count": 46,
   "metadata": {
    "slideshow": {
     "slide_type": "fragment"
    }
   },
   "outputs": [],
   "source": [
    "# convert the 'Date' column to datetime format\n",
    "pandemic_df['date'] = pd.to_datetime(pandemic_df['date'])"
   ]
  },
  {
   "cell_type": "code",
   "execution_count": 47,
   "metadata": {
    "slideshow": {
     "slide_type": "fragment"
    }
   },
   "outputs": [
    {
     "data": {
      "text/plain": [
       "iso_code                           object\n",
       "location                           object\n",
       "date                       datetime64[ns]\n",
       "total_cases                         int64\n",
       "total_deaths                        int64\n",
       "stringency_index                  float64\n",
       "population                          int64\n",
       "gdp_per_capita                    float64\n",
       "human_development_index           float64\n",
       "dtype: object"
      ]
     },
     "execution_count": 47,
     "metadata": {},
     "output_type": "execute_result"
    }
   ],
   "source": [
    "# convert float64 to int64 for total_cases and total_deaths\n",
    "pandemic_df['total_cases'] = pandemic_df['total_cases'].fillna(0)\n",
    "pandemic_df['total_cases'] = pandemic_df['total_cases'].astype(np.int64)\n",
    "pandemic_df['total_deaths'] = pandemic_df['total_deaths'].fillna(0)\n",
    "pandemic_df['total_deaths'] = pandemic_df['total_deaths'].astype(np.int64)\n",
    "pandemic_df['stringency_index'] = pandemic_df['stringency_index'].fillna(method='bfill')\n",
    "pandemic_df.dtypes"
   ]
  },
  {
   "cell_type": "markdown",
   "metadata": {
    "slideshow": {
     "slide_type": "skip"
    }
   },
   "source": [
    "    * Lets do a quick check on any single country's data, for ex. Brazil"
   ]
  },
  {
   "cell_type": "code",
   "execution_count": 48,
   "metadata": {
    "slideshow": {
     "slide_type": "skip"
    }
   },
   "outputs": [
    {
     "data": {
      "text/html": [
       "<div>\n",
       "<style scoped>\n",
       "    .dataframe tbody tr th:only-of-type {\n",
       "        vertical-align: middle;\n",
       "    }\n",
       "\n",
       "    .dataframe tbody tr th {\n",
       "        vertical-align: top;\n",
       "    }\n",
       "\n",
       "    .dataframe thead th {\n",
       "        text-align: right;\n",
       "    }\n",
       "</style>\n",
       "<table border=\"1\" class=\"dataframe\">\n",
       "  <thead>\n",
       "    <tr style=\"text-align: right;\">\n",
       "      <th></th>\n",
       "      <th>iso_code</th>\n",
       "      <th>location</th>\n",
       "      <th>date</th>\n",
       "      <th>total_cases</th>\n",
       "      <th>total_deaths</th>\n",
       "      <th>stringency_index</th>\n",
       "      <th>population</th>\n",
       "      <th>gdp_per_capita</th>\n",
       "      <th>human_development_index</th>\n",
       "    </tr>\n",
       "  </thead>\n",
       "  <tbody>\n",
       "    <tr>\n",
       "      <th>6571</th>\n",
       "      <td>BRA</td>\n",
       "      <td>Brazil</td>\n",
       "      <td>2019-12-31</td>\n",
       "      <td>0</td>\n",
       "      <td>0</td>\n",
       "      <td>0.0</td>\n",
       "      <td>212559409</td>\n",
       "      <td>14103.452</td>\n",
       "      <td>0.759</td>\n",
       "    </tr>\n",
       "    <tr>\n",
       "      <th>6572</th>\n",
       "      <td>BRA</td>\n",
       "      <td>Brazil</td>\n",
       "      <td>2020-01-01</td>\n",
       "      <td>0</td>\n",
       "      <td>0</td>\n",
       "      <td>0.0</td>\n",
       "      <td>212559409</td>\n",
       "      <td>14103.452</td>\n",
       "      <td>0.759</td>\n",
       "    </tr>\n",
       "    <tr>\n",
       "      <th>6573</th>\n",
       "      <td>BRA</td>\n",
       "      <td>Brazil</td>\n",
       "      <td>2020-01-02</td>\n",
       "      <td>0</td>\n",
       "      <td>0</td>\n",
       "      <td>0.0</td>\n",
       "      <td>212559409</td>\n",
       "      <td>14103.452</td>\n",
       "      <td>0.759</td>\n",
       "    </tr>\n",
       "    <tr>\n",
       "      <th>6574</th>\n",
       "      <td>BRA</td>\n",
       "      <td>Brazil</td>\n",
       "      <td>2020-01-03</td>\n",
       "      <td>0</td>\n",
       "      <td>0</td>\n",
       "      <td>0.0</td>\n",
       "      <td>212559409</td>\n",
       "      <td>14103.452</td>\n",
       "      <td>0.759</td>\n",
       "    </tr>\n",
       "    <tr>\n",
       "      <th>6575</th>\n",
       "      <td>BRA</td>\n",
       "      <td>Brazil</td>\n",
       "      <td>2020-01-04</td>\n",
       "      <td>0</td>\n",
       "      <td>0</td>\n",
       "      <td>0.0</td>\n",
       "      <td>212559409</td>\n",
       "      <td>14103.452</td>\n",
       "      <td>0.759</td>\n",
       "    </tr>\n",
       "    <tr>\n",
       "      <th>6576</th>\n",
       "      <td>BRA</td>\n",
       "      <td>Brazil</td>\n",
       "      <td>2020-01-05</td>\n",
       "      <td>0</td>\n",
       "      <td>0</td>\n",
       "      <td>0.0</td>\n",
       "      <td>212559409</td>\n",
       "      <td>14103.452</td>\n",
       "      <td>0.759</td>\n",
       "    </tr>\n",
       "    <tr>\n",
       "      <th>6577</th>\n",
       "      <td>BRA</td>\n",
       "      <td>Brazil</td>\n",
       "      <td>2020-01-06</td>\n",
       "      <td>0</td>\n",
       "      <td>0</td>\n",
       "      <td>0.0</td>\n",
       "      <td>212559409</td>\n",
       "      <td>14103.452</td>\n",
       "      <td>0.759</td>\n",
       "    </tr>\n",
       "    <tr>\n",
       "      <th>6578</th>\n",
       "      <td>BRA</td>\n",
       "      <td>Brazil</td>\n",
       "      <td>2020-01-07</td>\n",
       "      <td>0</td>\n",
       "      <td>0</td>\n",
       "      <td>0.0</td>\n",
       "      <td>212559409</td>\n",
       "      <td>14103.452</td>\n",
       "      <td>0.759</td>\n",
       "    </tr>\n",
       "    <tr>\n",
       "      <th>6579</th>\n",
       "      <td>BRA</td>\n",
       "      <td>Brazil</td>\n",
       "      <td>2020-01-08</td>\n",
       "      <td>0</td>\n",
       "      <td>0</td>\n",
       "      <td>0.0</td>\n",
       "      <td>212559409</td>\n",
       "      <td>14103.452</td>\n",
       "      <td>0.759</td>\n",
       "    </tr>\n",
       "    <tr>\n",
       "      <th>6580</th>\n",
       "      <td>BRA</td>\n",
       "      <td>Brazil</td>\n",
       "      <td>2020-01-09</td>\n",
       "      <td>0</td>\n",
       "      <td>0</td>\n",
       "      <td>0.0</td>\n",
       "      <td>212559409</td>\n",
       "      <td>14103.452</td>\n",
       "      <td>0.759</td>\n",
       "    </tr>\n",
       "  </tbody>\n",
       "</table>\n",
       "</div>"
      ],
      "text/plain": [
       "     iso_code location       date  total_cases  total_deaths  \\\n",
       "6571      BRA   Brazil 2019-12-31            0             0   \n",
       "6572      BRA   Brazil 2020-01-01            0             0   \n",
       "6573      BRA   Brazil 2020-01-02            0             0   \n",
       "6574      BRA   Brazil 2020-01-03            0             0   \n",
       "6575      BRA   Brazil 2020-01-04            0             0   \n",
       "6576      BRA   Brazil 2020-01-05            0             0   \n",
       "6577      BRA   Brazil 2020-01-06            0             0   \n",
       "6578      BRA   Brazil 2020-01-07            0             0   \n",
       "6579      BRA   Brazil 2020-01-08            0             0   \n",
       "6580      BRA   Brazil 2020-01-09            0             0   \n",
       "\n",
       "      stringency_index  population  gdp_per_capita  human_development_index  \n",
       "6571               0.0   212559409       14103.452                    0.759  \n",
       "6572               0.0   212559409       14103.452                    0.759  \n",
       "6573               0.0   212559409       14103.452                    0.759  \n",
       "6574               0.0   212559409       14103.452                    0.759  \n",
       "6575               0.0   212559409       14103.452                    0.759  \n",
       "6576               0.0   212559409       14103.452                    0.759  \n",
       "6577               0.0   212559409       14103.452                    0.759  \n",
       "6578               0.0   212559409       14103.452                    0.759  \n",
       "6579               0.0   212559409       14103.452                    0.759  \n",
       "6580               0.0   212559409       14103.452                    0.759  "
      ]
     },
     "execution_count": 48,
     "metadata": {},
     "output_type": "execute_result"
    }
   ],
   "source": [
    "# Data check for Brazil\n",
    "\n",
    "brazil_df = pandemic_df.loc[pandemic_df['location'] == 'Brazil'].head(10)\n",
    "brazil_df"
   ]
  },
  {
   "cell_type": "code",
   "execution_count": 49,
   "metadata": {
    "slideshow": {
     "slide_type": "skip"
    }
   },
   "outputs": [
    {
     "data": {
      "text/html": [
       "<div>\n",
       "<style scoped>\n",
       "    .dataframe tbody tr th:only-of-type {\n",
       "        vertical-align: middle;\n",
       "    }\n",
       "\n",
       "    .dataframe tbody tr th {\n",
       "        vertical-align: top;\n",
       "    }\n",
       "\n",
       "    .dataframe thead th {\n",
       "        text-align: right;\n",
       "    }\n",
       "</style>\n",
       "<table border=\"1\" class=\"dataframe\">\n",
       "  <thead>\n",
       "    <tr style=\"text-align: right;\">\n",
       "      <th></th>\n",
       "      <th></th>\n",
       "      <th>total_cases</th>\n",
       "      <th>total_deaths</th>\n",
       "      <th>stringency_index</th>\n",
       "      <th>population</th>\n",
       "      <th>gdp_per_capita</th>\n",
       "      <th>human_development_index</th>\n",
       "    </tr>\n",
       "    <tr>\n",
       "      <th>location</th>\n",
       "      <th>month</th>\n",
       "      <th></th>\n",
       "      <th></th>\n",
       "      <th></th>\n",
       "      <th></th>\n",
       "      <th></th>\n",
       "      <th></th>\n",
       "    </tr>\n",
       "  </thead>\n",
       "  <tbody>\n",
       "    <tr>\n",
       "      <th rowspan=\"2\" valign=\"top\">Brazil</th>\n",
       "      <th>1</th>\n",
       "      <td>0</td>\n",
       "      <td>0</td>\n",
       "      <td>0.0</td>\n",
       "      <td>212559409</td>\n",
       "      <td>14103.452</td>\n",
       "      <td>0.759</td>\n",
       "    </tr>\n",
       "    <tr>\n",
       "      <th>12</th>\n",
       "      <td>0</td>\n",
       "      <td>0</td>\n",
       "      <td>0.0</td>\n",
       "      <td>212559409</td>\n",
       "      <td>14103.452</td>\n",
       "      <td>0.759</td>\n",
       "    </tr>\n",
       "  </tbody>\n",
       "</table>\n",
       "</div>"
      ],
      "text/plain": [
       "                total_cases  total_deaths  stringency_index  population  \\\n",
       "location month                                                            \n",
       "Brazil   1                0             0               0.0   212559409   \n",
       "         12               0             0               0.0   212559409   \n",
       "\n",
       "                gdp_per_capita  human_development_index  \n",
       "location month                                           \n",
       "Brazil   1           14103.452                    0.759  \n",
       "         12          14103.452                    0.759  "
      ]
     },
     "execution_count": 49,
     "metadata": {},
     "output_type": "execute_result"
    }
   ],
   "source": [
    "#  I decide to fill in the stringency index for brazil as some values were missing in the original dataset\n",
    "brazil_df['month'] = pd.to_datetime(pandemic_df['date']).dt.month\n",
    "brazil_df.groupby(['location', 'month']).agg(\n",
    "    {\n",
    "        'total_cases': 'sum', \n",
    "        'total_deaths': 'sum', \n",
    "        'stringency_index': 'mean',\n",
    "        'population': 'first',\n",
    "        'gdp_per_capita': 'first',\n",
    "        'human_development_index': 'mean',\n",
    "    })"
   ]
  },
  {
   "cell_type": "code",
   "execution_count": 50,
   "metadata": {
    "slideshow": {
     "slide_type": "subslide"
    }
   },
   "outputs": [
    {
     "data": {
      "text/plain": [
       "iso_code                           object\n",
       "location                           object\n",
       "date                       datetime64[ns]\n",
       "total_cases                         int64\n",
       "total_deaths                        int64\n",
       "stringency_index                  float64\n",
       "population                          int64\n",
       "gdp_per_capita                    float64\n",
       "human_development_index           float64\n",
       "dtype: object"
      ]
     },
     "execution_count": 50,
     "metadata": {},
     "output_type": "execute_result"
    }
   ],
   "source": [
    "df_inter = pandemic_df.interpolate()\n",
    "df_inter.dtypes"
   ]
  },
  {
   "cell_type": "code",
   "execution_count": 51,
   "metadata": {
    "slideshow": {
     "slide_type": "subslide"
    }
   },
   "outputs": [
    {
     "data": {
      "text/html": [
       "<div>\n",
       "<style scoped>\n",
       "    .dataframe tbody tr th:only-of-type {\n",
       "        vertical-align: middle;\n",
       "    }\n",
       "\n",
       "    .dataframe tbody tr th {\n",
       "        vertical-align: top;\n",
       "    }\n",
       "\n",
       "    .dataframe thead th {\n",
       "        text-align: right;\n",
       "    }\n",
       "</style>\n",
       "<table border=\"1\" class=\"dataframe\">\n",
       "  <thead>\n",
       "    <tr style=\"text-align: right;\">\n",
       "      <th></th>\n",
       "      <th>iso_code</th>\n",
       "      <th>location</th>\n",
       "      <th>date</th>\n",
       "      <th>total_cases</th>\n",
       "      <th>total_deaths</th>\n",
       "      <th>stringency_index</th>\n",
       "      <th>population</th>\n",
       "      <th>gdp_per_capita</th>\n",
       "      <th>human_development_index</th>\n",
       "      <th>month</th>\n",
       "      <th>year</th>\n",
       "    </tr>\n",
       "  </thead>\n",
       "  <tbody>\n",
       "    <tr>\n",
       "      <th>0</th>\n",
       "      <td>AFG</td>\n",
       "      <td>Afghanistan</td>\n",
       "      <td>2019-12-31</td>\n",
       "      <td>0</td>\n",
       "      <td>0</td>\n",
       "      <td>0.00</td>\n",
       "      <td>38928341</td>\n",
       "      <td>1803.987</td>\n",
       "      <td>0.498</td>\n",
       "      <td>12</td>\n",
       "      <td>2019</td>\n",
       "    </tr>\n",
       "    <tr>\n",
       "      <th>1</th>\n",
       "      <td>AFG</td>\n",
       "      <td>Afghanistan</td>\n",
       "      <td>2020-01-01</td>\n",
       "      <td>0</td>\n",
       "      <td>0</td>\n",
       "      <td>0.00</td>\n",
       "      <td>38928341</td>\n",
       "      <td>1803.987</td>\n",
       "      <td>0.498</td>\n",
       "      <td>1</td>\n",
       "      <td>2020</td>\n",
       "    </tr>\n",
       "    <tr>\n",
       "      <th>2</th>\n",
       "      <td>AFG</td>\n",
       "      <td>Afghanistan</td>\n",
       "      <td>2020-01-02</td>\n",
       "      <td>0</td>\n",
       "      <td>0</td>\n",
       "      <td>0.00</td>\n",
       "      <td>38928341</td>\n",
       "      <td>1803.987</td>\n",
       "      <td>0.498</td>\n",
       "      <td>1</td>\n",
       "      <td>2020</td>\n",
       "    </tr>\n",
       "    <tr>\n",
       "      <th>3</th>\n",
       "      <td>AFG</td>\n",
       "      <td>Afghanistan</td>\n",
       "      <td>2020-01-03</td>\n",
       "      <td>0</td>\n",
       "      <td>0</td>\n",
       "      <td>0.00</td>\n",
       "      <td>38928341</td>\n",
       "      <td>1803.987</td>\n",
       "      <td>0.498</td>\n",
       "      <td>1</td>\n",
       "      <td>2020</td>\n",
       "    </tr>\n",
       "    <tr>\n",
       "      <th>4</th>\n",
       "      <td>AFG</td>\n",
       "      <td>Afghanistan</td>\n",
       "      <td>2020-01-04</td>\n",
       "      <td>0</td>\n",
       "      <td>0</td>\n",
       "      <td>0.00</td>\n",
       "      <td>38928341</td>\n",
       "      <td>1803.987</td>\n",
       "      <td>0.498</td>\n",
       "      <td>1</td>\n",
       "      <td>2020</td>\n",
       "    </tr>\n",
       "    <tr>\n",
       "      <th>...</th>\n",
       "      <td>...</td>\n",
       "      <td>...</td>\n",
       "      <td>...</td>\n",
       "      <td>...</td>\n",
       "      <td>...</td>\n",
       "      <td>...</td>\n",
       "      <td>...</td>\n",
       "      <td>...</td>\n",
       "      <td>...</td>\n",
       "      <td>...</td>\n",
       "      <td>...</td>\n",
       "    </tr>\n",
       "    <tr>\n",
       "      <th>50413</th>\n",
       "      <td>ZWE</td>\n",
       "      <td>Zimbabwe</td>\n",
       "      <td>2020-10-15</td>\n",
       "      <td>8055</td>\n",
       "      <td>231</td>\n",
       "      <td>76.85</td>\n",
       "      <td>14862927</td>\n",
       "      <td>1899.775</td>\n",
       "      <td>0.535</td>\n",
       "      <td>10</td>\n",
       "      <td>2020</td>\n",
       "    </tr>\n",
       "    <tr>\n",
       "      <th>50414</th>\n",
       "      <td>ZWE</td>\n",
       "      <td>Zimbabwe</td>\n",
       "      <td>2020-10-16</td>\n",
       "      <td>8075</td>\n",
       "      <td>231</td>\n",
       "      <td>76.85</td>\n",
       "      <td>14862927</td>\n",
       "      <td>1899.775</td>\n",
       "      <td>0.535</td>\n",
       "      <td>10</td>\n",
       "      <td>2020</td>\n",
       "    </tr>\n",
       "    <tr>\n",
       "      <th>50415</th>\n",
       "      <td>ZWE</td>\n",
       "      <td>Zimbabwe</td>\n",
       "      <td>2020-10-17</td>\n",
       "      <td>8099</td>\n",
       "      <td>231</td>\n",
       "      <td>76.85</td>\n",
       "      <td>14862927</td>\n",
       "      <td>1899.775</td>\n",
       "      <td>0.535</td>\n",
       "      <td>10</td>\n",
       "      <td>2020</td>\n",
       "    </tr>\n",
       "    <tr>\n",
       "      <th>50416</th>\n",
       "      <td>ZWE</td>\n",
       "      <td>Zimbabwe</td>\n",
       "      <td>2020-10-18</td>\n",
       "      <td>8110</td>\n",
       "      <td>231</td>\n",
       "      <td>76.85</td>\n",
       "      <td>14862927</td>\n",
       "      <td>1899.775</td>\n",
       "      <td>0.535</td>\n",
       "      <td>10</td>\n",
       "      <td>2020</td>\n",
       "    </tr>\n",
       "    <tr>\n",
       "      <th>50417</th>\n",
       "      <td>ZWE</td>\n",
       "      <td>Zimbabwe</td>\n",
       "      <td>2020-10-19</td>\n",
       "      <td>8147</td>\n",
       "      <td>231</td>\n",
       "      <td>76.85</td>\n",
       "      <td>14862927</td>\n",
       "      <td>1899.775</td>\n",
       "      <td>0.535</td>\n",
       "      <td>10</td>\n",
       "      <td>2020</td>\n",
       "    </tr>\n",
       "  </tbody>\n",
       "</table>\n",
       "<p>50418 rows × 11 columns</p>\n",
       "</div>"
      ],
      "text/plain": [
       "      iso_code     location       date  total_cases  total_deaths  \\\n",
       "0          AFG  Afghanistan 2019-12-31            0             0   \n",
       "1          AFG  Afghanistan 2020-01-01            0             0   \n",
       "2          AFG  Afghanistan 2020-01-02            0             0   \n",
       "3          AFG  Afghanistan 2020-01-03            0             0   \n",
       "4          AFG  Afghanistan 2020-01-04            0             0   \n",
       "...        ...          ...        ...          ...           ...   \n",
       "50413      ZWE     Zimbabwe 2020-10-15         8055           231   \n",
       "50414      ZWE     Zimbabwe 2020-10-16         8075           231   \n",
       "50415      ZWE     Zimbabwe 2020-10-17         8099           231   \n",
       "50416      ZWE     Zimbabwe 2020-10-18         8110           231   \n",
       "50417      ZWE     Zimbabwe 2020-10-19         8147           231   \n",
       "\n",
       "       stringency_index  population  gdp_per_capita  human_development_index  \\\n",
       "0                  0.00    38928341        1803.987                    0.498   \n",
       "1                  0.00    38928341        1803.987                    0.498   \n",
       "2                  0.00    38928341        1803.987                    0.498   \n",
       "3                  0.00    38928341        1803.987                    0.498   \n",
       "4                  0.00    38928341        1803.987                    0.498   \n",
       "...                 ...         ...             ...                      ...   \n",
       "50413             76.85    14862927        1899.775                    0.535   \n",
       "50414             76.85    14862927        1899.775                    0.535   \n",
       "50415             76.85    14862927        1899.775                    0.535   \n",
       "50416             76.85    14862927        1899.775                    0.535   \n",
       "50417             76.85    14862927        1899.775                    0.535   \n",
       "\n",
       "       month  year  \n",
       "0         12  2019  \n",
       "1          1  2020  \n",
       "2          1  2020  \n",
       "3          1  2020  \n",
       "4          1  2020  \n",
       "...      ...   ...  \n",
       "50413     10  2020  \n",
       "50414     10  2020  \n",
       "50415     10  2020  \n",
       "50416     10  2020  \n",
       "50417     10  2020  \n",
       "\n",
       "[50418 rows x 11 columns]"
      ]
     },
     "execution_count": 51,
     "metadata": {},
     "output_type": "execute_result"
    }
   ],
   "source": [
    "# adding two more columns to the dataset\n",
    "\n",
    "df_inter['month'] = df_inter['date'].dt.month\n",
    "df_inter['year'] = df_inter['date'].dt.year\n",
    "df_inter"
   ]
  },
  {
   "cell_type": "code",
   "execution_count": 52,
   "metadata": {
    "slideshow": {
     "slide_type": "fragment"
    }
   },
   "outputs": [],
   "source": [
    "df_inter.to_csv('dataset/transformed_pandemic_data.csv') # keep this for regression analysis"
   ]
  },
  {
   "cell_type": "markdown",
   "metadata": {
    "slideshow": {
     "slide_type": "slide"
    }
   },
   "source": [
    "## Grouping the dataset\n",
    "### Grouping the dataset by Location and then my Month, (The month column has been computed and added, this is derived from the Date column)"
   ]
  },
  {
   "cell_type": "code",
   "execution_count": 53,
   "metadata": {
    "slideshow": {
     "slide_type": "subslide"
    }
   },
   "outputs": [
    {
     "data": {
      "text/html": [
       "<div>\n",
       "<style scoped>\n",
       "    .dataframe tbody tr th:only-of-type {\n",
       "        vertical-align: middle;\n",
       "    }\n",
       "\n",
       "    .dataframe tbody tr th {\n",
       "        vertical-align: top;\n",
       "    }\n",
       "\n",
       "    .dataframe thead th {\n",
       "        text-align: right;\n",
       "    }\n",
       "</style>\n",
       "<table border=\"1\" class=\"dataframe\">\n",
       "  <thead>\n",
       "    <tr style=\"text-align: right;\">\n",
       "      <th></th>\n",
       "      <th>location</th>\n",
       "      <th>month</th>\n",
       "      <th>total_cases</th>\n",
       "      <th>total_deaths</th>\n",
       "      <th>stringency_index</th>\n",
       "      <th>population</th>\n",
       "      <th>gdp_per_capita</th>\n",
       "      <th>human_development_index</th>\n",
       "    </tr>\n",
       "  </thead>\n",
       "  <tbody>\n",
       "    <tr>\n",
       "      <th>0</th>\n",
       "      <td>Afghanistan</td>\n",
       "      <td>1</td>\n",
       "      <td>0</td>\n",
       "      <td>0</td>\n",
       "      <td>0.000000</td>\n",
       "      <td>38928341</td>\n",
       "      <td>1803.987</td>\n",
       "      <td>0.498</td>\n",
       "    </tr>\n",
       "    <tr>\n",
       "      <th>1</th>\n",
       "      <td>Afghanistan</td>\n",
       "      <td>2</td>\n",
       "      <td>5</td>\n",
       "      <td>0</td>\n",
       "      <td>2.010690</td>\n",
       "      <td>38928341</td>\n",
       "      <td>1803.987</td>\n",
       "      <td>0.498</td>\n",
       "    </tr>\n",
       "    <tr>\n",
       "      <th>2</th>\n",
       "      <td>Afghanistan</td>\n",
       "      <td>3</td>\n",
       "      <td>892</td>\n",
       "      <td>17</td>\n",
       "      <td>40.831935</td>\n",
       "      <td>38928341</td>\n",
       "      <td>1803.987</td>\n",
       "      <td>0.498</td>\n",
       "    </tr>\n",
       "    <tr>\n",
       "      <th>3</th>\n",
       "      <td>Afghanistan</td>\n",
       "      <td>4</td>\n",
       "      <td>24801</td>\n",
       "      <td>794</td>\n",
       "      <td>80.740000</td>\n",
       "      <td>38928341</td>\n",
       "      <td>1803.987</td>\n",
       "      <td>0.498</td>\n",
       "    </tr>\n",
       "    <tr>\n",
       "      <th>4</th>\n",
       "      <td>Afghanistan</td>\n",
       "      <td>5</td>\n",
       "      <td>212674</td>\n",
       "      <td>4814</td>\n",
       "      <td>84.260000</td>\n",
       "      <td>38928341</td>\n",
       "      <td>1803.987</td>\n",
       "      <td>0.498</td>\n",
       "    </tr>\n",
       "    <tr>\n",
       "      <th>...</th>\n",
       "      <td>...</td>\n",
       "      <td>...</td>\n",
       "      <td>...</td>\n",
       "      <td>...</td>\n",
       "      <td>...</td>\n",
       "      <td>...</td>\n",
       "      <td>...</td>\n",
       "      <td>...</td>\n",
       "    </tr>\n",
       "    <tr>\n",
       "      <th>1865</th>\n",
       "      <td>Zimbabwe</td>\n",
       "      <td>6</td>\n",
       "      <td>11693</td>\n",
       "      <td>141</td>\n",
       "      <td>72.715333</td>\n",
       "      <td>14862927</td>\n",
       "      <td>1899.775</td>\n",
       "      <td>0.535</td>\n",
       "    </tr>\n",
       "    <tr>\n",
       "      <th>1866</th>\n",
       "      <td>Zimbabwe</td>\n",
       "      <td>7</td>\n",
       "      <td>45546</td>\n",
       "      <td>663</td>\n",
       "      <td>76.583548</td>\n",
       "      <td>14862927</td>\n",
       "      <td>1899.775</td>\n",
       "      <td>0.535</td>\n",
       "    </tr>\n",
       "    <tr>\n",
       "      <th>1867</th>\n",
       "      <td>Zimbabwe</td>\n",
       "      <td>8</td>\n",
       "      <td>160139</td>\n",
       "      <td>4017</td>\n",
       "      <td>80.560000</td>\n",
       "      <td>14862927</td>\n",
       "      <td>1899.775</td>\n",
       "      <td>0.535</td>\n",
       "    </tr>\n",
       "    <tr>\n",
       "      <th>1868</th>\n",
       "      <td>Zimbabwe</td>\n",
       "      <td>9</td>\n",
       "      <td>222393</td>\n",
       "      <td>6593</td>\n",
       "      <td>78.457667</td>\n",
       "      <td>14862927</td>\n",
       "      <td>1899.775</td>\n",
       "      <td>0.535</td>\n",
       "    </tr>\n",
       "    <tr>\n",
       "      <th>1869</th>\n",
       "      <td>Zimbabwe</td>\n",
       "      <td>10</td>\n",
       "      <td>151557</td>\n",
       "      <td>4359</td>\n",
       "      <td>76.850000</td>\n",
       "      <td>14862927</td>\n",
       "      <td>1899.775</td>\n",
       "      <td>0.535</td>\n",
       "    </tr>\n",
       "  </tbody>\n",
       "</table>\n",
       "<p>1870 rows × 8 columns</p>\n",
       "</div>"
      ],
      "text/plain": [
       "         location  month  total_cases  total_deaths  stringency_index  \\\n",
       "0     Afghanistan      1            0             0          0.000000   \n",
       "1     Afghanistan      2            5             0          2.010690   \n",
       "2     Afghanistan      3          892            17         40.831935   \n",
       "3     Afghanistan      4        24801           794         80.740000   \n",
       "4     Afghanistan      5       212674          4814         84.260000   \n",
       "...           ...    ...          ...           ...               ...   \n",
       "1865     Zimbabwe      6        11693           141         72.715333   \n",
       "1866     Zimbabwe      7        45546           663         76.583548   \n",
       "1867     Zimbabwe      8       160139          4017         80.560000   \n",
       "1868     Zimbabwe      9       222393          6593         78.457667   \n",
       "1869     Zimbabwe     10       151557          4359         76.850000   \n",
       "\n",
       "      population  gdp_per_capita  human_development_index  \n",
       "0       38928341        1803.987                    0.498  \n",
       "1       38928341        1803.987                    0.498  \n",
       "2       38928341        1803.987                    0.498  \n",
       "3       38928341        1803.987                    0.498  \n",
       "4       38928341        1803.987                    0.498  \n",
       "...          ...             ...                      ...  \n",
       "1865    14862927        1899.775                    0.535  \n",
       "1866    14862927        1899.775                    0.535  \n",
       "1867    14862927        1899.775                    0.535  \n",
       "1868    14862927        1899.775                    0.535  \n",
       "1869    14862927        1899.775                    0.535  \n",
       "\n",
       "[1870 rows x 8 columns]"
      ]
     },
     "execution_count": 53,
     "metadata": {},
     "output_type": "execute_result"
    }
   ],
   "source": [
    "df_grouped = df_inter.groupby(['location', 'month'], as_index=False).agg(\n",
    "    {\n",
    "        'total_cases': 'sum', \n",
    "        'total_deaths': 'sum', \n",
    "        'stringency_index': 'mean',\n",
    "        'population': 'first',\n",
    "        'gdp_per_capita': 'first',\n",
    "        'human_development_index': 'first',\n",
    "    })\n",
    "df_grouped\n"
   ]
  },
  {
   "cell_type": "markdown",
   "metadata": {
    "slideshow": {
     "slide_type": "subslide"
    }
   },
   "source": [
    "## Drop rows with missing or 0 values for stringency_index, total_cases and total_deaths"
   ]
  },
  {
   "cell_type": "code",
   "execution_count": 54,
   "metadata": {
    "slideshow": {
     "slide_type": "fragment"
    }
   },
   "outputs": [
    {
     "data": {
      "text/html": [
       "<div>\n",
       "<style scoped>\n",
       "    .dataframe tbody tr th:only-of-type {\n",
       "        vertical-align: middle;\n",
       "    }\n",
       "\n",
       "    .dataframe tbody tr th {\n",
       "        vertical-align: top;\n",
       "    }\n",
       "\n",
       "    .dataframe thead th {\n",
       "        text-align: right;\n",
       "    }\n",
       "</style>\n",
       "<table border=\"1\" class=\"dataframe\">\n",
       "  <thead>\n",
       "    <tr style=\"text-align: right;\">\n",
       "      <th></th>\n",
       "      <th>location</th>\n",
       "      <th>month</th>\n",
       "      <th>total_cases</th>\n",
       "      <th>total_deaths</th>\n",
       "      <th>stringency_index</th>\n",
       "      <th>population</th>\n",
       "      <th>gdp_per_capita</th>\n",
       "      <th>human_development_index</th>\n",
       "    </tr>\n",
       "  </thead>\n",
       "  <tbody>\n",
       "    <tr>\n",
       "      <th>1</th>\n",
       "      <td>Afghanistan</td>\n",
       "      <td>2</td>\n",
       "      <td>5</td>\n",
       "      <td>0</td>\n",
       "      <td>2.010690</td>\n",
       "      <td>38928341</td>\n",
       "      <td>1803.987</td>\n",
       "      <td>0.498</td>\n",
       "    </tr>\n",
       "    <tr>\n",
       "      <th>2</th>\n",
       "      <td>Afghanistan</td>\n",
       "      <td>3</td>\n",
       "      <td>892</td>\n",
       "      <td>17</td>\n",
       "      <td>40.831935</td>\n",
       "      <td>38928341</td>\n",
       "      <td>1803.987</td>\n",
       "      <td>0.498</td>\n",
       "    </tr>\n",
       "    <tr>\n",
       "      <th>3</th>\n",
       "      <td>Afghanistan</td>\n",
       "      <td>4</td>\n",
       "      <td>24801</td>\n",
       "      <td>794</td>\n",
       "      <td>80.740000</td>\n",
       "      <td>38928341</td>\n",
       "      <td>1803.987</td>\n",
       "      <td>0.498</td>\n",
       "    </tr>\n",
       "    <tr>\n",
       "      <th>4</th>\n",
       "      <td>Afghanistan</td>\n",
       "      <td>5</td>\n",
       "      <td>212674</td>\n",
       "      <td>4814</td>\n",
       "      <td>84.260000</td>\n",
       "      <td>38928341</td>\n",
       "      <td>1803.987</td>\n",
       "      <td>0.498</td>\n",
       "    </tr>\n",
       "    <tr>\n",
       "      <th>5</th>\n",
       "      <td>Afghanistan</td>\n",
       "      <td>6</td>\n",
       "      <td>734634</td>\n",
       "      <td>14418</td>\n",
       "      <td>80.182667</td>\n",
       "      <td>38928341</td>\n",
       "      <td>1803.987</td>\n",
       "      <td>0.498</td>\n",
       "    </tr>\n",
       "    <tr>\n",
       "      <th>...</th>\n",
       "      <td>...</td>\n",
       "      <td>...</td>\n",
       "      <td>...</td>\n",
       "      <td>...</td>\n",
       "      <td>...</td>\n",
       "      <td>...</td>\n",
       "      <td>...</td>\n",
       "      <td>...</td>\n",
       "    </tr>\n",
       "    <tr>\n",
       "      <th>1865</th>\n",
       "      <td>Zimbabwe</td>\n",
       "      <td>6</td>\n",
       "      <td>11693</td>\n",
       "      <td>141</td>\n",
       "      <td>72.715333</td>\n",
       "      <td>14862927</td>\n",
       "      <td>1899.775</td>\n",
       "      <td>0.535</td>\n",
       "    </tr>\n",
       "    <tr>\n",
       "      <th>1866</th>\n",
       "      <td>Zimbabwe</td>\n",
       "      <td>7</td>\n",
       "      <td>45546</td>\n",
       "      <td>663</td>\n",
       "      <td>76.583548</td>\n",
       "      <td>14862927</td>\n",
       "      <td>1899.775</td>\n",
       "      <td>0.535</td>\n",
       "    </tr>\n",
       "    <tr>\n",
       "      <th>1867</th>\n",
       "      <td>Zimbabwe</td>\n",
       "      <td>8</td>\n",
       "      <td>160139</td>\n",
       "      <td>4017</td>\n",
       "      <td>80.560000</td>\n",
       "      <td>14862927</td>\n",
       "      <td>1899.775</td>\n",
       "      <td>0.535</td>\n",
       "    </tr>\n",
       "    <tr>\n",
       "      <th>1868</th>\n",
       "      <td>Zimbabwe</td>\n",
       "      <td>9</td>\n",
       "      <td>222393</td>\n",
       "      <td>6593</td>\n",
       "      <td>78.457667</td>\n",
       "      <td>14862927</td>\n",
       "      <td>1899.775</td>\n",
       "      <td>0.535</td>\n",
       "    </tr>\n",
       "    <tr>\n",
       "      <th>1869</th>\n",
       "      <td>Zimbabwe</td>\n",
       "      <td>10</td>\n",
       "      <td>151557</td>\n",
       "      <td>4359</td>\n",
       "      <td>76.850000</td>\n",
       "      <td>14862927</td>\n",
       "      <td>1899.775</td>\n",
       "      <td>0.535</td>\n",
       "    </tr>\n",
       "  </tbody>\n",
       "</table>\n",
       "<p>1782 rows × 8 columns</p>\n",
       "</div>"
      ],
      "text/plain": [
       "         location  month  total_cases  total_deaths  stringency_index  \\\n",
       "1     Afghanistan      2            5             0          2.010690   \n",
       "2     Afghanistan      3          892            17         40.831935   \n",
       "3     Afghanistan      4        24801           794         80.740000   \n",
       "4     Afghanistan      5       212674          4814         84.260000   \n",
       "5     Afghanistan      6       734634         14418         80.182667   \n",
       "...           ...    ...          ...           ...               ...   \n",
       "1865     Zimbabwe      6        11693           141         72.715333   \n",
       "1866     Zimbabwe      7        45546           663         76.583548   \n",
       "1867     Zimbabwe      8       160139          4017         80.560000   \n",
       "1868     Zimbabwe      9       222393          6593         78.457667   \n",
       "1869     Zimbabwe     10       151557          4359         76.850000   \n",
       "\n",
       "      population  gdp_per_capita  human_development_index  \n",
       "1       38928341        1803.987                    0.498  \n",
       "2       38928341        1803.987                    0.498  \n",
       "3       38928341        1803.987                    0.498  \n",
       "4       38928341        1803.987                    0.498  \n",
       "5       38928341        1803.987                    0.498  \n",
       "...          ...             ...                      ...  \n",
       "1865    14862927        1899.775                    0.535  \n",
       "1866    14862927        1899.775                    0.535  \n",
       "1867    14862927        1899.775                    0.535  \n",
       "1868    14862927        1899.775                    0.535  \n",
       "1869    14862927        1899.775                    0.535  \n",
       "\n",
       "[1782 rows x 8 columns]"
      ]
     },
     "execution_count": 54,
     "metadata": {},
     "output_type": "execute_result"
    }
   ],
   "source": [
    "# drop the rows with 0 values for the columns : stringency_index, total_cases and total_deaths\n",
    "# get names of indexes for which columns have value == 01\n",
    "\n",
    "index_names = df_grouped[(df_grouped['stringency_index'] == 0) & (df_grouped['total_deaths'] == 0) & (df_grouped['total_cases'] == 0)].index\n",
    "df_grouped.drop(index_names, inplace = True)\n",
    "\n",
    "df_grouped"
   ]
  },
  {
   "cell_type": "code",
   "execution_count": 55,
   "metadata": {
    "slideshow": {
     "slide_type": "skip"
    }
   },
   "outputs": [],
   "source": [
    "# the df_final dataset holds the desired data which can be used for further analysis\n",
    "# df_grouped.to_csv('scrubbed_pandemic_final.csv')"
   ]
  },
  {
   "cell_type": "code",
   "execution_count": 56,
   "metadata": {
    "slideshow": {
     "slide_type": "subslide"
    }
   },
   "outputs": [
    {
     "data": {
      "text/html": [
       "<div>\n",
       "<style scoped>\n",
       "    .dataframe tbody tr th:only-of-type {\n",
       "        vertical-align: middle;\n",
       "    }\n",
       "\n",
       "    .dataframe tbody tr th {\n",
       "        vertical-align: top;\n",
       "    }\n",
       "\n",
       "    .dataframe thead th {\n",
       "        text-align: right;\n",
       "    }\n",
       "</style>\n",
       "<table border=\"1\" class=\"dataframe\">\n",
       "  <thead>\n",
       "    <tr style=\"text-align: right;\">\n",
       "      <th></th>\n",
       "      <th>location</th>\n",
       "      <th>month</th>\n",
       "      <th>total_cases</th>\n",
       "      <th>total_deaths</th>\n",
       "      <th>stringency_index</th>\n",
       "      <th>population</th>\n",
       "      <th>gdp_per_capita</th>\n",
       "      <th>human_development_index</th>\n",
       "    </tr>\n",
       "  </thead>\n",
       "  <tbody>\n",
       "    <tr>\n",
       "      <th>798</th>\n",
       "      <td>India</td>\n",
       "      <td>1</td>\n",
       "      <td>2</td>\n",
       "      <td>0</td>\n",
       "      <td>2.151613</td>\n",
       "      <td>1380004385</td>\n",
       "      <td>6426.674</td>\n",
       "      <td>0.64</td>\n",
       "    </tr>\n",
       "    <tr>\n",
       "      <th>799</th>\n",
       "      <td>India</td>\n",
       "      <td>2</td>\n",
       "      <td>83</td>\n",
       "      <td>0</td>\n",
       "      <td>10.190000</td>\n",
       "      <td>1380004385</td>\n",
       "      <td>6426.674</td>\n",
       "      <td>0.64</td>\n",
       "    </tr>\n",
       "    <tr>\n",
       "      <th>800</th>\n",
       "      <td>India</td>\n",
       "      <td>3</td>\n",
       "      <td>8856</td>\n",
       "      <td>188</td>\n",
       "      <td>54.703871</td>\n",
       "      <td>1380004385</td>\n",
       "      <td>6426.674</td>\n",
       "      <td>0.64</td>\n",
       "    </tr>\n",
       "    <tr>\n",
       "      <th>801</th>\n",
       "      <td>India</td>\n",
       "      <td>4</td>\n",
       "      <td>413410</td>\n",
       "      <td>13055</td>\n",
       "      <td>98.643333</td>\n",
       "      <td>1380004385</td>\n",
       "      <td>6426.674</td>\n",
       "      <td>0.64</td>\n",
       "    </tr>\n",
       "    <tr>\n",
       "      <th>802</th>\n",
       "      <td>India</td>\n",
       "      <td>5</td>\n",
       "      <td>2939503</td>\n",
       "      <td>89793</td>\n",
       "      <td>82.078710</td>\n",
       "      <td>1380004385</td>\n",
       "      <td>6426.674</td>\n",
       "      <td>0.64</td>\n",
       "    </tr>\n",
       "    <tr>\n",
       "      <th>803</th>\n",
       "      <td>India</td>\n",
       "      <td>6</td>\n",
       "      <td>10558374</td>\n",
       "      <td>319690</td>\n",
       "      <td>76.280000</td>\n",
       "      <td>1380004385</td>\n",
       "      <td>6426.674</td>\n",
       "      <td>0.64</td>\n",
       "    </tr>\n",
       "    <tr>\n",
       "      <th>804</th>\n",
       "      <td>India</td>\n",
       "      <td>7</td>\n",
       "      <td>31726501</td>\n",
       "      <td>793511</td>\n",
       "      <td>76.702903</td>\n",
       "      <td>1380004385</td>\n",
       "      <td>6426.674</td>\n",
       "      <td>0.64</td>\n",
       "    </tr>\n",
       "    <tr>\n",
       "      <th>805</th>\n",
       "      <td>India</td>\n",
       "      <td>8</td>\n",
       "      <td>80749620</td>\n",
       "      <td>1553468</td>\n",
       "      <td>79.764516</td>\n",
       "      <td>1380004385</td>\n",
       "      <td>6426.674</td>\n",
       "      <td>0.64</td>\n",
       "    </tr>\n",
       "    <tr>\n",
       "      <th>806</th>\n",
       "      <td>India</td>\n",
       "      <td>9</td>\n",
       "      <td>149113758</td>\n",
       "      <td>2443314</td>\n",
       "      <td>79.105000</td>\n",
       "      <td>1380004385</td>\n",
       "      <td>6426.674</td>\n",
       "      <td>0.64</td>\n",
       "    </tr>\n",
       "    <tr>\n",
       "      <th>807</th>\n",
       "      <td>India</td>\n",
       "      <td>10</td>\n",
       "      <td>132261508</td>\n",
       "      <td>2034308</td>\n",
       "      <td>50.364737</td>\n",
       "      <td>1380004385</td>\n",
       "      <td>6426.674</td>\n",
       "      <td>0.64</td>\n",
       "    </tr>\n",
       "  </tbody>\n",
       "</table>\n",
       "</div>"
      ],
      "text/plain": [
       "    location  month  total_cases  total_deaths  stringency_index  population  \\\n",
       "798    India      1            2             0          2.151613  1380004385   \n",
       "799    India      2           83             0         10.190000  1380004385   \n",
       "800    India      3         8856           188         54.703871  1380004385   \n",
       "801    India      4       413410         13055         98.643333  1380004385   \n",
       "802    India      5      2939503         89793         82.078710  1380004385   \n",
       "803    India      6     10558374        319690         76.280000  1380004385   \n",
       "804    India      7     31726501        793511         76.702903  1380004385   \n",
       "805    India      8     80749620       1553468         79.764516  1380004385   \n",
       "806    India      9    149113758       2443314         79.105000  1380004385   \n",
       "807    India     10    132261508       2034308         50.364737  1380004385   \n",
       "\n",
       "     gdp_per_capita  human_development_index  \n",
       "798        6426.674                     0.64  \n",
       "799        6426.674                     0.64  \n",
       "800        6426.674                     0.64  \n",
       "801        6426.674                     0.64  \n",
       "802        6426.674                     0.64  \n",
       "803        6426.674                     0.64  \n",
       "804        6426.674                     0.64  \n",
       "805        6426.674                     0.64  \n",
       "806        6426.674                     0.64  \n",
       "807        6426.674                     0.64  "
      ]
     },
     "execution_count": 56,
     "metadata": {},
     "output_type": "execute_result"
    }
   ],
   "source": [
    "# testing the final dataset with an example country \"Brazil\"\n",
    "df_grouped[df_grouped['location'] == 'India']"
   ]
  },
  {
   "cell_type": "markdown",
   "metadata": {
    "slideshow": {
     "slide_type": "slide"
    }
   },
   "source": [
    "# Visualizations with matplotlib and seaborn\n",
    "\n",
    "## Plotting countrywise population from the dataset"
   ]
  },
  {
   "cell_type": "markdown",
   "metadata": {
    "slideshow": {
     "slide_type": "skip"
    }
   },
   "source": []
  },
  {
   "cell_type": "code",
   "execution_count": 57,
   "metadata": {},
   "outputs": [
    {
     "data": {
      "text/html": [
       "<div>\n",
       "<style scoped>\n",
       "    .dataframe tbody tr th:only-of-type {\n",
       "        vertical-align: middle;\n",
       "    }\n",
       "\n",
       "    .dataframe tbody tr th {\n",
       "        vertical-align: top;\n",
       "    }\n",
       "\n",
       "    .dataframe thead th {\n",
       "        text-align: right;\n",
       "    }\n",
       "</style>\n",
       "<table border=\"1\" class=\"dataframe\">\n",
       "  <thead>\n",
       "    <tr style=\"text-align: right;\">\n",
       "      <th></th>\n",
       "      <th>location</th>\n",
       "      <th>month</th>\n",
       "      <th>total_cases</th>\n",
       "      <th>total_deaths</th>\n",
       "      <th>stringency_index</th>\n",
       "      <th>population</th>\n",
       "      <th>gdp_per_capita</th>\n",
       "      <th>human_development_index</th>\n",
       "    </tr>\n",
       "  </thead>\n",
       "  <tbody>\n",
       "    <tr>\n",
       "      <th>363</th>\n",
       "      <td>China</td>\n",
       "      <td>2</td>\n",
       "      <td>1596921</td>\n",
       "      <td>44705</td>\n",
       "      <td>76.992759</td>\n",
       "      <td>1439323774</td>\n",
       "      <td>15308.712000</td>\n",
       "      <td>0.752000</td>\n",
       "    </tr>\n",
       "    <tr>\n",
       "      <th>371</th>\n",
       "      <td>China</td>\n",
       "      <td>10</td>\n",
       "      <td>1724309</td>\n",
       "      <td>90041</td>\n",
       "      <td>27.561579</td>\n",
       "      <td>1439323774</td>\n",
       "      <td>15308.712000</td>\n",
       "      <td>0.752000</td>\n",
       "    </tr>\n",
       "    <tr>\n",
       "      <th>364</th>\n",
       "      <td>China</td>\n",
       "      <td>3</td>\n",
       "      <td>2514736</td>\n",
       "      <td>98467</td>\n",
       "      <td>79.526452</td>\n",
       "      <td>1439323774</td>\n",
       "      <td>15308.712000</td>\n",
       "      <td>0.752000</td>\n",
       "    </tr>\n",
       "    <tr>\n",
       "      <th>365</th>\n",
       "      <td>China</td>\n",
       "      <td>4</td>\n",
       "      <td>2499717</td>\n",
       "      <td>118277</td>\n",
       "      <td>60.213000</td>\n",
       "      <td>1439323774</td>\n",
       "      <td>15308.712000</td>\n",
       "      <td>0.752000</td>\n",
       "    </tr>\n",
       "    <tr>\n",
       "      <th>366</th>\n",
       "      <td>China</td>\n",
       "      <td>5</td>\n",
       "      <td>2605117</td>\n",
       "      <td>143762</td>\n",
       "      <td>74.681935</td>\n",
       "      <td>1439323774</td>\n",
       "      <td>15308.712000</td>\n",
       "      <td>0.752000</td>\n",
       "    </tr>\n",
       "    <tr>\n",
       "      <th>...</th>\n",
       "      <td>...</td>\n",
       "      <td>...</td>\n",
       "      <td>...</td>\n",
       "      <td>...</td>\n",
       "      <td>...</td>\n",
       "      <td>...</td>\n",
       "      <td>...</td>\n",
       "      <td>...</td>\n",
       "    </tr>\n",
       "    <tr>\n",
       "      <th>1821</th>\n",
       "      <td>Vatican</td>\n",
       "      <td>4</td>\n",
       "      <td>240</td>\n",
       "      <td>0</td>\n",
       "      <td>51.850000</td>\n",
       "      <td>809</td>\n",
       "      <td>7241.132152</td>\n",
       "      <td>0.714803</td>\n",
       "    </tr>\n",
       "    <tr>\n",
       "      <th>1825</th>\n",
       "      <td>Vatican</td>\n",
       "      <td>8</td>\n",
       "      <td>372</td>\n",
       "      <td>0</td>\n",
       "      <td>51.850000</td>\n",
       "      <td>809</td>\n",
       "      <td>12981.105229</td>\n",
       "      <td>0.742704</td>\n",
       "    </tr>\n",
       "    <tr>\n",
       "      <th>1826</th>\n",
       "      <td>Vatican</td>\n",
       "      <td>9</td>\n",
       "      <td>360</td>\n",
       "      <td>0</td>\n",
       "      <td>51.850000</td>\n",
       "      <td>809</td>\n",
       "      <td>14439.622978</td>\n",
       "      <td>0.749794</td>\n",
       "    </tr>\n",
       "    <tr>\n",
       "      <th>1827</th>\n",
       "      <td>Vatican</td>\n",
       "      <td>10</td>\n",
       "      <td>305</td>\n",
       "      <td>0</td>\n",
       "      <td>51.850000</td>\n",
       "      <td>809</td>\n",
       "      <td>15851.091767</td>\n",
       "      <td>0.756655</td>\n",
       "    </tr>\n",
       "    <tr>\n",
       "      <th>1820</th>\n",
       "      <td>Vatican</td>\n",
       "      <td>3</td>\n",
       "      <td>40</td>\n",
       "      <td>0</td>\n",
       "      <td>51.850000</td>\n",
       "      <td>809</td>\n",
       "      <td>6300.152960</td>\n",
       "      <td>0.710229</td>\n",
       "    </tr>\n",
       "  </tbody>\n",
       "</table>\n",
       "<p>1782 rows × 8 columns</p>\n",
       "</div>"
      ],
      "text/plain": [
       "     location  month  total_cases  total_deaths  stringency_index  population  \\\n",
       "363     China      2      1596921         44705         76.992759  1439323774   \n",
       "371     China     10      1724309         90041         27.561579  1439323774   \n",
       "364     China      3      2514736         98467         79.526452  1439323774   \n",
       "365     China      4      2499717        118277         60.213000  1439323774   \n",
       "366     China      5      2605117        143762         74.681935  1439323774   \n",
       "...       ...    ...          ...           ...               ...         ...   \n",
       "1821  Vatican      4          240             0         51.850000         809   \n",
       "1825  Vatican      8          372             0         51.850000         809   \n",
       "1826  Vatican      9          360             0         51.850000         809   \n",
       "1827  Vatican     10          305             0         51.850000         809   \n",
       "1820  Vatican      3           40             0         51.850000         809   \n",
       "\n",
       "      gdp_per_capita  human_development_index  \n",
       "363     15308.712000                 0.752000  \n",
       "371     15308.712000                 0.752000  \n",
       "364     15308.712000                 0.752000  \n",
       "365     15308.712000                 0.752000  \n",
       "366     15308.712000                 0.752000  \n",
       "...              ...                      ...  \n",
       "1821     7241.132152                 0.714803  \n",
       "1825    12981.105229                 0.742704  \n",
       "1826    14439.622978                 0.749794  \n",
       "1827    15851.091767                 0.756655  \n",
       "1820     6300.152960                 0.710229  \n",
       "\n",
       "[1782 rows x 8 columns]"
      ]
     },
     "execution_count": 57,
     "metadata": {},
     "output_type": "execute_result"
    }
   ],
   "source": [
    "df_pop = df_grouped.sort_values(\"population\", ascending=False)\n",
    "df_pop"
   ]
  },
  {
   "cell_type": "code",
   "execution_count": 58,
   "metadata": {
    "slideshow": {
     "slide_type": "subslide"
    }
   },
   "outputs": [
    {
     "data": {
      "image/png": "[encoded data removed]",
      "text/plain": [
       "<Figure size 3600x720 with 1 Axes>"
      ]
     },
     "metadata": {
      "needs_background": "light"
     },
     "output_type": "display_data"
    }
   ],
   "source": [
    "figure(figsize=(50, 10))\n",
    "\n",
    "plt.plot(df_grouped['location'], df_grouped['population'])\n",
    "plt.title('Population By Country')\n",
    "plt.xlabel('Countries')\n",
    "plt.ylabel('Population')\n",
    "\n",
    "plt.xticks(df_pop['location'], label=\"Countries\", rotation=90)\n",
    "\n",
    "plt.show()"
   ]
  },
  {
   "cell_type": "markdown",
   "metadata": {
    "slideshow": {
     "slide_type": "slide"
    }
   },
   "source": [
    "## Histogram plot for total_cases and total_deaths"
   ]
  },
  {
   "cell_type": "code",
   "execution_count": 59,
   "metadata": {},
   "outputs": [
    {
     "data": {
      "image/png": "[encoded data removed]",
      "text/plain": [
       "<Figure size 1440x1080 with 2 Axes>"
      ]
     },
     "metadata": {
      "needs_background": "light"
     },
     "output_type": "display_data"
    }
   ],
   "source": [
    "fig = plt.figure(figsize=(20,15))\n",
    "_bins = [10,50,100,500,1000,5000,10000,25000,50000,75000,100000]\n",
    "\n",
    "ax1 = fig.add_subplot(2,2,1)\n",
    "\n",
    "ax1.hist(df_pop['total_cases'],bins=_bins, edgecolor='black')\n",
    "ax1.set_title('Histogram plot for Total COVID CASES in countries worldwide',  fontsize=20)\n",
    "ax1.set_ylabel('Countries',  fontsize=20)\n",
    "ax1.set_xlabel('Total Cases', fontsize=20)\n",
    "ax1.grid(which='both')\n",
    "\n",
    "ax2 = fig.add_subplot(2,2,2) \n",
    "ax2.hist(df_pop['total_deaths'], bins=_bins, edgecolor='black')\n",
    "ax2.set_title('Histogram plot for Total COVID Deaths in countries worldwide', fontsize=20)\n",
    "ax2.set_ylabel('Countries', fontsize=20)\n",
    "ax2.set_xlabel('Total Deaths', fontsize=20)\n",
    "ax2.grid(which='both')\n",
    "\n",
    "plt.tight_layout()"
   ]
  },
  {
   "cell_type": "code",
   "execution_count": 60,
   "metadata": {
    "slideshow": {
     "slide_type": "skip"
    }
   },
   "outputs": [
    {
     "data": {
      "text/plain": [
       "Taiwan             11\n",
       "Monaco             11\n",
       "China              11\n",
       "Macedonia          11\n",
       "Sri Lanka          10\n",
       "                   ..\n",
       "Sierra Leone        7\n",
       "Tajikistan          6\n",
       "Lesotho             6\n",
       "Comoros             6\n",
       "Solomon Islands     1\n",
       "Name: location, Length: 210, dtype: int64"
      ]
     },
     "execution_count": 60,
     "metadata": {},
     "output_type": "execute_result"
    }
   ],
   "source": [
    "# name of all countries countries\n",
    "df_pop['location'].value_counts()"
   ]
  },
  {
   "cell_type": "code",
   "execution_count": 61,
   "metadata": {
    "slideshow": {
     "slide_type": "subslide"
    }
   },
   "outputs": [
    {
     "data": {
      "text/html": [
       "<div>\n",
       "<style scoped>\n",
       "    .dataframe tbody tr th:only-of-type {\n",
       "        vertical-align: middle;\n",
       "    }\n",
       "\n",
       "    .dataframe tbody tr th {\n",
       "        vertical-align: top;\n",
       "    }\n",
       "\n",
       "    .dataframe thead th {\n",
       "        text-align: right;\n",
       "    }\n",
       "</style>\n",
       "<table border=\"1\" class=\"dataframe\">\n",
       "  <thead>\n",
       "    <tr style=\"text-align: right;\">\n",
       "      <th></th>\n",
       "      <th>location</th>\n",
       "      <th>total_cases</th>\n",
       "      <th>total_deaths</th>\n",
       "      <th>stringency_index</th>\n",
       "      <th>population</th>\n",
       "      <th>gdp_per_capita</th>\n",
       "      <th>human_development_index</th>\n",
       "    </tr>\n",
       "  </thead>\n",
       "  <tbody>\n",
       "    <tr>\n",
       "      <th>0</th>\n",
       "      <td>Afghanistan</td>\n",
       "      <td>5126433</td>\n",
       "      <td>165875</td>\n",
       "      <td>53.247755</td>\n",
       "      <td>38928341</td>\n",
       "      <td>1803.987000</td>\n",
       "      <td>0.498</td>\n",
       "    </tr>\n",
       "    <tr>\n",
       "      <th>1</th>\n",
       "      <td>Albania</td>\n",
       "      <td>1071951</td>\n",
       "      <td>31056</td>\n",
       "      <td>61.465869</td>\n",
       "      <td>2877800</td>\n",
       "      <td>11803.431000</td>\n",
       "      <td>0.785</td>\n",
       "    </tr>\n",
       "    <tr>\n",
       "      <th>2</th>\n",
       "      <td>Algeria</td>\n",
       "      <td>4893999</td>\n",
       "      <td>206429</td>\n",
       "      <td>60.909531</td>\n",
       "      <td>43851043</td>\n",
       "      <td>13913.839000</td>\n",
       "      <td>0.754</td>\n",
       "    </tr>\n",
       "    <tr>\n",
       "      <th>3</th>\n",
       "      <td>Andorra</td>\n",
       "      <td>223576</td>\n",
       "      <td>9850</td>\n",
       "      <td>40.203210</td>\n",
       "      <td>77265</td>\n",
       "      <td>9777.522242</td>\n",
       "      <td>0.858</td>\n",
       "    </tr>\n",
       "    <tr>\n",
       "      <th>4</th>\n",
       "      <td>Angola</td>\n",
       "      <td>304005</td>\n",
       "      <td>11820</td>\n",
       "      <td>75.591247</td>\n",
       "      <td>32866268</td>\n",
       "      <td>5819.495000</td>\n",
       "      <td>0.581</td>\n",
       "    </tr>\n",
       "    <tr>\n",
       "      <th>...</th>\n",
       "      <td>...</td>\n",
       "      <td>...</td>\n",
       "      <td>...</td>\n",
       "      <td>...</td>\n",
       "      <td>...</td>\n",
       "      <td>...</td>\n",
       "      <td>...</td>\n",
       "    </tr>\n",
       "    <tr>\n",
       "      <th>205</th>\n",
       "      <td>Venezuela</td>\n",
       "      <td>4839834</td>\n",
       "      <td>40840</td>\n",
       "      <td>81.239320</td>\n",
       "      <td>28435943</td>\n",
       "      <td>16745.022000</td>\n",
       "      <td>0.761</td>\n",
       "    </tr>\n",
       "    <tr>\n",
       "      <th>206</th>\n",
       "      <td>Vietnam</td>\n",
       "      <td>122618</td>\n",
       "      <td>2318</td>\n",
       "      <td>56.485342</td>\n",
       "      <td>97338583</td>\n",
       "      <td>6171.884000</td>\n",
       "      <td>0.694</td>\n",
       "    </tr>\n",
       "    <tr>\n",
       "      <th>207</th>\n",
       "      <td>Yemen</td>\n",
       "      <td>228925</td>\n",
       "      <td>64304</td>\n",
       "      <td>42.450945</td>\n",
       "      <td>29825968</td>\n",
       "      <td>1479.147000</td>\n",
       "      <td>0.452</td>\n",
       "    </tr>\n",
       "    <tr>\n",
       "      <th>208</th>\n",
       "      <td>Zambia</td>\n",
       "      <td>1129913</td>\n",
       "      <td>26475</td>\n",
       "      <td>45.666856</td>\n",
       "      <td>18383956</td>\n",
       "      <td>3689.251000</td>\n",
       "      <td>0.588</td>\n",
       "    </tr>\n",
       "    <tr>\n",
       "      <th>209</th>\n",
       "      <td>Zimbabwe</td>\n",
       "      <td>593699</td>\n",
       "      <td>15984</td>\n",
       "      <td>77.322296</td>\n",
       "      <td>14862927</td>\n",
       "      <td>1899.775000</td>\n",
       "      <td>0.535</td>\n",
       "    </tr>\n",
       "  </tbody>\n",
       "</table>\n",
       "<p>210 rows × 7 columns</p>\n",
       "</div>"
      ],
      "text/plain": [
       "        location  total_cases  total_deaths  stringency_index  population  \\\n",
       "0    Afghanistan      5126433        165875         53.247755    38928341   \n",
       "1        Albania      1071951         31056         61.465869     2877800   \n",
       "2        Algeria      4893999        206429         60.909531    43851043   \n",
       "3        Andorra       223576          9850         40.203210       77265   \n",
       "4         Angola       304005         11820         75.591247    32866268   \n",
       "..           ...          ...           ...               ...         ...   \n",
       "205    Venezuela      4839834         40840         81.239320    28435943   \n",
       "206      Vietnam       122618          2318         56.485342    97338583   \n",
       "207        Yemen       228925         64304         42.450945    29825968   \n",
       "208       Zambia      1129913         26475         45.666856    18383956   \n",
       "209     Zimbabwe       593699         15984         77.322296    14862927   \n",
       "\n",
       "     gdp_per_capita  human_development_index  \n",
       "0       1803.987000                    0.498  \n",
       "1      11803.431000                    0.785  \n",
       "2      13913.839000                    0.754  \n",
       "3       9777.522242                    0.858  \n",
       "4       5819.495000                    0.581  \n",
       "..              ...                      ...  \n",
       "205    16745.022000                    0.761  \n",
       "206     6171.884000                    0.694  \n",
       "207     1479.147000                    0.452  \n",
       "208     3689.251000                    0.588  \n",
       "209     1899.775000                    0.535  \n",
       "\n",
       "[210 rows x 7 columns]"
      ]
     },
     "execution_count": 61,
     "metadata": {},
     "output_type": "execute_result"
    }
   ],
   "source": [
    "# grouping the data further by countries\n",
    "country_agg = df_pop.groupby([\"location\"], as_index=False).agg(\n",
    "    {\n",
    "     'total_cases': 'sum', \n",
    "     'total_deaths':'sum', \n",
    "     'stringency_index': 'mean', \n",
    "     'population': 'first', \n",
    "     'gdp_per_capita': 'first', \n",
    "     'human_development_index': 'first'\n",
    "    })\n",
    "\n",
    "country_agg"
   ]
  },
  {
   "cell_type": "markdown",
   "metadata": {
    "slideshow": {
     "slide_type": "subslide"
    }
   },
   "source": [
    "### For a better understanding of the plots, we will carry on with the rest of the plots with top 20 highly populated countries"
   ]
  },
  {
   "cell_type": "code",
   "execution_count": 62,
   "metadata": {
    "slideshow": {
     "slide_type": "subslide"
    }
   },
   "outputs": [
    {
     "data": {
      "text/html": [
       "<div>\n",
       "<style scoped>\n",
       "    .dataframe tbody tr th:only-of-type {\n",
       "        vertical-align: middle;\n",
       "    }\n",
       "\n",
       "    .dataframe tbody tr th {\n",
       "        vertical-align: top;\n",
       "    }\n",
       "\n",
       "    .dataframe thead th {\n",
       "        text-align: right;\n",
       "    }\n",
       "</style>\n",
       "<table border=\"1\" class=\"dataframe\">\n",
       "  <thead>\n",
       "    <tr style=\"text-align: right;\">\n",
       "      <th></th>\n",
       "      <th>location</th>\n",
       "      <th>total_cases</th>\n",
       "      <th>total_deaths</th>\n",
       "      <th>stringency_index</th>\n",
       "      <th>population</th>\n",
       "      <th>gdp_per_capita</th>\n",
       "      <th>human_development_index</th>\n",
       "    </tr>\n",
       "  </thead>\n",
       "  <tbody>\n",
       "    <tr>\n",
       "      <th>41</th>\n",
       "      <td>China</td>\n",
       "      <td>21632319</td>\n",
       "      <td>1066939</td>\n",
       "      <td>59.871230</td>\n",
       "      <td>1439323774</td>\n",
       "      <td>15308.712</td>\n",
       "      <td>0.752</td>\n",
       "    </tr>\n",
       "    <tr>\n",
       "      <th>90</th>\n",
       "      <td>India</td>\n",
       "      <td>407771615</td>\n",
       "      <td>7247327</td>\n",
       "      <td>60.998468</td>\n",
       "      <td>1380004385</td>\n",
       "      <td>6426.674</td>\n",
       "      <td>0.640</td>\n",
       "    </tr>\n",
       "    <tr>\n",
       "      <th>200</th>\n",
       "      <td>United States</td>\n",
       "      <td>746014098</td>\n",
       "      <td>26477574</td>\n",
       "      <td>52.540198</td>\n",
       "      <td>331002647</td>\n",
       "      <td>54225.446</td>\n",
       "      <td>0.924</td>\n",
       "    </tr>\n",
       "    <tr>\n",
       "      <th>91</th>\n",
       "      <td>Indonesia</td>\n",
       "      <td>21570149</td>\n",
       "      <td>916111</td>\n",
       "      <td>50.234151</td>\n",
       "      <td>273523621</td>\n",
       "      <td>11188.744</td>\n",
       "      <td>0.694</td>\n",
       "    </tr>\n",
       "    <tr>\n",
       "      <th>145</th>\n",
       "      <td>Pakistan</td>\n",
       "      <td>37738077</td>\n",
       "      <td>789557</td>\n",
       "      <td>51.910775</td>\n",
       "      <td>220892331</td>\n",
       "      <td>5034.708</td>\n",
       "      <td>0.562</td>\n",
       "    </tr>\n",
       "    <tr>\n",
       "      <th>27</th>\n",
       "      <td>Brazil</td>\n",
       "      <td>425704517</td>\n",
       "      <td>14340567</td>\n",
       "      <td>58.123214</td>\n",
       "      <td>212559409</td>\n",
       "      <td>14103.452</td>\n",
       "      <td>0.759</td>\n",
       "    </tr>\n",
       "    <tr>\n",
       "      <th>141</th>\n",
       "      <td>Nigeria</td>\n",
       "      <td>6107371</td>\n",
       "      <td>125473</td>\n",
       "      <td>51.406610</td>\n",
       "      <td>206139587</td>\n",
       "      <td>5338.454</td>\n",
       "      <td>0.532</td>\n",
       "    </tr>\n",
       "    <tr>\n",
       "      <th>15</th>\n",
       "      <td>Bangladesh</td>\n",
       "      <td>35266178</td>\n",
       "      <td>484534</td>\n",
       "      <td>73.628312</td>\n",
       "      <td>164689383</td>\n",
       "      <td>3523.984</td>\n",
       "      <td>0.608</td>\n",
       "    </tr>\n",
       "    <tr>\n",
       "      <th>157</th>\n",
       "      <td>Russia</td>\n",
       "      <td>132888951</td>\n",
       "      <td>2131571</td>\n",
       "      <td>50.978774</td>\n",
       "      <td>145934460</td>\n",
       "      <td>24765.954</td>\n",
       "      <td>0.816</td>\n",
       "    </tr>\n",
       "    <tr>\n",
       "      <th>125</th>\n",
       "      <td>Mexico</td>\n",
       "      <td>74347548</td>\n",
       "      <td>7295850</td>\n",
       "      <td>50.888418</td>\n",
       "      <td>128932753</td>\n",
       "      <td>17336.469</td>\n",
       "      <td>0.774</td>\n",
       "    </tr>\n",
       "    <tr>\n",
       "      <th>99</th>\n",
       "      <td>Japan</td>\n",
       "      <td>7659484</td>\n",
       "      <td>194918</td>\n",
       "      <td>30.104196</td>\n",
       "      <td>126476458</td>\n",
       "      <td>39002.223</td>\n",
       "      <td>0.909</td>\n",
       "    </tr>\n",
       "    <tr>\n",
       "      <th>63</th>\n",
       "      <td>Ethiopia</td>\n",
       "      <td>4876417</td>\n",
       "      <td>77686</td>\n",
       "      <td>74.110456</td>\n",
       "      <td>114963583</td>\n",
       "      <td>1729.927</td>\n",
       "      <td>0.463</td>\n",
       "    </tr>\n",
       "    <tr>\n",
       "      <th>151</th>\n",
       "      <td>Philippines</td>\n",
       "      <td>22409936</td>\n",
       "      <td>448665</td>\n",
       "      <td>60.913761</td>\n",
       "      <td>109581085</td>\n",
       "      <td>7599.188</td>\n",
       "      <td>0.699</td>\n",
       "    </tr>\n",
       "    <tr>\n",
       "      <th>58</th>\n",
       "      <td>Egypt</td>\n",
       "      <td>12422845</td>\n",
       "      <td>644416</td>\n",
       "      <td>57.843603</td>\n",
       "      <td>102334403</td>\n",
       "      <td>10550.206</td>\n",
       "      <td>0.696</td>\n",
       "    </tr>\n",
       "    <tr>\n",
       "      <th>206</th>\n",
       "      <td>Vietnam</td>\n",
       "      <td>122618</td>\n",
       "      <td>2318</td>\n",
       "      <td>56.485342</td>\n",
       "      <td>97338583</td>\n",
       "      <td>6171.884</td>\n",
       "      <td>0.694</td>\n",
       "    </tr>\n",
       "    <tr>\n",
       "      <th>52</th>\n",
       "      <td>Democratic Republic of Congo</td>\n",
       "      <td>1271391</td>\n",
       "      <td>32040</td>\n",
       "      <td>62.234115</td>\n",
       "      <td>89561404</td>\n",
       "      <td>808.133</td>\n",
       "      <td>0.457</td>\n",
       "    </tr>\n",
       "    <tr>\n",
       "      <th>194</th>\n",
       "      <td>Turkey</td>\n",
       "      <td>41431948</td>\n",
       "      <td>1049757</td>\n",
       "      <td>63.219240</td>\n",
       "      <td>84339067</td>\n",
       "      <td>25129.341</td>\n",
       "      <td>0.791</td>\n",
       "    </tr>\n",
       "    <tr>\n",
       "      <th>92</th>\n",
       "      <td>Iran</td>\n",
       "      <td>52421884</td>\n",
       "      <td>2914070</td>\n",
       "      <td>47.573222</td>\n",
       "      <td>83992953</td>\n",
       "      <td>19082.620</td>\n",
       "      <td>0.798</td>\n",
       "    </tr>\n",
       "    <tr>\n",
       "      <th>73</th>\n",
       "      <td>Germany</td>\n",
       "      <td>42447678</td>\n",
       "      <td>1640691</td>\n",
       "      <td>44.604390</td>\n",
       "      <td>83783945</td>\n",
       "      <td>45229.245</td>\n",
       "      <td>0.936</td>\n",
       "    </tr>\n",
       "    <tr>\n",
       "      <th>189</th>\n",
       "      <td>Thailand</td>\n",
       "      <td>655703</td>\n",
       "      <td>11162</td>\n",
       "      <td>42.977858</td>\n",
       "      <td>69799978</td>\n",
       "      <td>16277.671</td>\n",
       "      <td>0.755</td>\n",
       "    </tr>\n",
       "  </tbody>\n",
       "</table>\n",
       "</div>"
      ],
      "text/plain": [
       "                         location  total_cases  total_deaths  \\\n",
       "41                          China     21632319       1066939   \n",
       "90                          India    407771615       7247327   \n",
       "200                 United States    746014098      26477574   \n",
       "91                      Indonesia     21570149        916111   \n",
       "145                      Pakistan     37738077        789557   \n",
       "27                         Brazil    425704517      14340567   \n",
       "141                       Nigeria      6107371        125473   \n",
       "15                     Bangladesh     35266178        484534   \n",
       "157                        Russia    132888951       2131571   \n",
       "125                        Mexico     74347548       7295850   \n",
       "99                          Japan      7659484        194918   \n",
       "63                       Ethiopia      4876417         77686   \n",
       "151                   Philippines     22409936        448665   \n",
       "58                          Egypt     12422845        644416   \n",
       "206                       Vietnam       122618          2318   \n",
       "52   Democratic Republic of Congo      1271391         32040   \n",
       "194                        Turkey     41431948       1049757   \n",
       "92                           Iran     52421884       2914070   \n",
       "73                        Germany     42447678       1640691   \n",
       "189                      Thailand       655703         11162   \n",
       "\n",
       "     stringency_index  population  gdp_per_capita  human_development_index  \n",
       "41          59.871230  1439323774       15308.712                    0.752  \n",
       "90          60.998468  1380004385        6426.674                    0.640  \n",
       "200         52.540198   331002647       54225.446                    0.924  \n",
       "91          50.234151   273523621       11188.744                    0.694  \n",
       "145         51.910775   220892331        5034.708                    0.562  \n",
       "27          58.123214   212559409       14103.452                    0.759  \n",
       "141         51.406610   206139587        5338.454                    0.532  \n",
       "15          73.628312   164689383        3523.984                    0.608  \n",
       "157         50.978774   145934460       24765.954                    0.816  \n",
       "125         50.888418   128932753       17336.469                    0.774  \n",
       "99          30.104196   126476458       39002.223                    0.909  \n",
       "63          74.110456   114963583        1729.927                    0.463  \n",
       "151         60.913761   109581085        7599.188                    0.699  \n",
       "58          57.843603   102334403       10550.206                    0.696  \n",
       "206         56.485342    97338583        6171.884                    0.694  \n",
       "52          62.234115    89561404         808.133                    0.457  \n",
       "194         63.219240    84339067       25129.341                    0.791  \n",
       "92          47.573222    83992953       19082.620                    0.798  \n",
       "73          44.604390    83783945       45229.245                    0.936  \n",
       "189         42.977858    69799978       16277.671                    0.755  "
      ]
     },
     "execution_count": 62,
     "metadata": {},
     "output_type": "execute_result"
    }
   ],
   "source": [
    "# sorting the group data by countries with Highest population at the top\n",
    "sort_coun_agg = country_agg.sort_values(\"population\", ascending=False)\n",
    "df_selcoun = sort_coun_agg.head(20)\n",
    "df_selcoun.head(30)"
   ]
  },
  {
   "cell_type": "code",
   "execution_count": 63,
   "metadata": {
    "slideshow": {
     "slide_type": "skip"
    }
   },
   "outputs": [
    {
     "data": {
      "text/plain": [
       "Index(['location', 'total_cases', 'total_deaths', 'stringency_index',\n",
       "       'population', 'gdp_per_capita', 'human_development_index'],\n",
       "      dtype='object')"
      ]
     },
     "execution_count": 63,
     "metadata": {},
     "output_type": "execute_result"
    }
   ],
   "source": [
    "sort_coun_agg.columns"
   ]
  },
  {
   "cell_type": "code",
   "execution_count": 64,
   "metadata": {
    "slideshow": {
     "slide_type": "subslide"
    }
   },
   "outputs": [
    {
     "data": {
      "text/plain": [
       "Index(['loc', 'total_cases', 'total_deaths', 'SI', 'pop', 'GDP', 'HDI'], dtype='object')"
      ]
     },
     "execution_count": 64,
     "metadata": {},
     "output_type": "execute_result"
    }
   ],
   "source": [
    "# Rename columns\n",
    "df_selcoun = df_selcoun.rename(columns = {'location':'loc', 'stringency_index': 'SI', 'population': 'pop', 'gdp_per_capita':'GDP', 'human_development_index': 'HDI'})\n",
    "df_selcoun.columns"
   ]
  },
  {
   "cell_type": "markdown",
   "metadata": {
    "slideshow": {
     "slide_type": "slide"
    }
   },
   "source": [
    "### Following are 4 plots, with shows country-wise population (1), country-wise HDI (2), country-wise Stringency Index (3) and country-wise HDI"
   ]
  },
  {
   "cell_type": "code",
   "execution_count": 65,
   "metadata": {
    "slideshow": {
     "slide_type": "subslide"
    }
   },
   "outputs": [
    {
     "data": {
      "image/png": "[encoded data removed]",
      "text/plain": [
       "<Figure size 1440x1080 with 2 Axes>"
      ]
     },
     "metadata": {
      "needs_background": "light"
     },
     "output_type": "display_data"
    }
   ],
   "source": [
    "fig = plt.figure(figsize=(20,15))\n",
    "\n",
    "ax1 = fig.add_subplot(2,2,1) \n",
    "sns.barplot(x=df_selcoun['pop'], y=df_selcoun['loc'])\n",
    "ax1.set_xlabel('Population', fontsize=20)\n",
    "ax1.set_ylabel('COUNTRY', fontsize=20)\n",
    "ax1.set_title('Countplot of country by Population', fontsize=20)\n",
    "\n",
    "ax2 = fig.add_subplot(2,2,2)\n",
    "sns.barplot(x=df_selcoun['HDI'], y=df_selcoun['loc'])\n",
    "ax2.set_xlabel('HDI', fontsize=20)\n",
    "ax2.set_ylabel('COUNTRY', fontsize=20)\n",
    "ax2.set_title('Countplot of country by HDI', fontsize=20)\n",
    "\n",
    "plt.tight_layout()\n"
   ]
  },
  {
   "cell_type": "code",
   "execution_count": 68,
   "metadata": {
    "slideshow": {
     "slide_type": "subslide"
    }
   },
   "outputs": [
    {
     "data": {
      "image/png": "[encoded data removed]",
      "text/plain": [
       "<Figure size 1440x1080 with 2 Axes>"
      ]
     },
     "metadata": {
      "needs_background": "light"
     },
     "output_type": "display_data"
    }
   ],
   "source": [
    "fig = plt.figure(figsize=(20,15))\n",
    "ax3 = fig.add_subplot(2,2,1) \n",
    "sns.barplot(x=df_selcoun['SI'], y=df_selcoun['loc'])\n",
    "ax3.set_xlabel('Stringency Index', fontsize=20)\n",
    "ax3.set_ylabel('COUNTRY', fontsize=20)\n",
    "ax3.set_title('Countplot of country by Stringency Index', fontsize=20)\n",
    "\n",
    "ax4 = fig.add_subplot(2,2,2)\n",
    "sns.barplot(x=df_selcoun['GDP'], y=df_selcoun['loc'])\n",
    "ax4.set_xlabel('GDP Per capita', fontsize=20)\n",
    "ax4.set_ylabel('COUNTRY', fontsize=20)\n",
    "ax4.set_title('Countplot of country by GDP Per Capita', fontsize=20)\n",
    "\n",
    "plt.tight_layout()"
   ]
  },
  {
   "cell_type": "markdown",
   "metadata": {
    "slideshow": {
     "slide_type": "slide"
    }
   },
   "source": [
    "### How is HDI related to population for the 20 most highly populated countries as per the data sheet"
   ]
  },
  {
   "cell_type": "code",
   "execution_count": 32,
   "metadata": {
    "slideshow": {
     "slide_type": "subslide"
    }
   },
   "outputs": [
    {
     "data": {
      "image/png": "[encoded data removed]",
      "text/plain": [
       "<Figure size 432x288 with 1 Axes>"
      ]
     },
     "metadata": {
      "needs_background": "light"
     },
     "output_type": "display_data"
    }
   ],
   "source": [
    "fig, ax = plt.subplots()\n",
    "# fig.set_size_inches(15, 8, forward=True)\n",
    "ax.scatter(df_selcoun['HDI'], df_selcoun['pop'], s=df_selcoun['HDI']*100)\n",
    "ax.set_xlabel('Human Development Index')\n",
    "ax.set_ylabel('Population')\n",
    "ax.set_title('Population and HDI Relationship', fontsize=20)\n",
    "ax.grid(which=\"both\")\n",
    "plt.tight_layout()\n",
    "\n",
    "# less populated countries have a higher Human Development Index"
   ]
  },
  {
   "cell_type": "markdown",
   "metadata": {
    "slideshow": {
     "slide_type": "slide"
    }
   },
   "source": [
    "### Now lets dig into more details with a country, here we will take the case of India. \n",
    "### total_cases and total_deaths plot over a period of the year of 2020"
   ]
  },
  {
   "cell_type": "code",
   "execution_count": 33,
   "metadata": {
    "slideshow": {
     "slide_type": "subslide"
    }
   },
   "outputs": [
    {
     "data": {
      "text/html": [
       "<div>\n",
       "<style scoped>\n",
       "    .dataframe tbody tr th:only-of-type {\n",
       "        vertical-align: middle;\n",
       "    }\n",
       "\n",
       "    .dataframe tbody tr th {\n",
       "        vertical-align: top;\n",
       "    }\n",
       "\n",
       "    .dataframe thead th {\n",
       "        text-align: right;\n",
       "    }\n",
       "</style>\n",
       "<table border=\"1\" class=\"dataframe\">\n",
       "  <thead>\n",
       "    <tr style=\"text-align: right;\">\n",
       "      <th></th>\n",
       "      <th>location</th>\n",
       "      <th>month</th>\n",
       "      <th>total_cases</th>\n",
       "      <th>total_deaths</th>\n",
       "      <th>stringency_index</th>\n",
       "      <th>population</th>\n",
       "      <th>gdp_per_capita</th>\n",
       "      <th>human_development_index</th>\n",
       "    </tr>\n",
       "  </thead>\n",
       "  <tbody>\n",
       "    <tr>\n",
       "      <th>798</th>\n",
       "      <td>India</td>\n",
       "      <td>1</td>\n",
       "      <td>2</td>\n",
       "      <td>0</td>\n",
       "      <td>2.151613</td>\n",
       "      <td>1380004385</td>\n",
       "      <td>6426.674</td>\n",
       "      <td>0.64</td>\n",
       "    </tr>\n",
       "    <tr>\n",
       "      <th>799</th>\n",
       "      <td>India</td>\n",
       "      <td>2</td>\n",
       "      <td>83</td>\n",
       "      <td>0</td>\n",
       "      <td>10.190000</td>\n",
       "      <td>1380004385</td>\n",
       "      <td>6426.674</td>\n",
       "      <td>0.64</td>\n",
       "    </tr>\n",
       "    <tr>\n",
       "      <th>800</th>\n",
       "      <td>India</td>\n",
       "      <td>3</td>\n",
       "      <td>8856</td>\n",
       "      <td>188</td>\n",
       "      <td>54.703871</td>\n",
       "      <td>1380004385</td>\n",
       "      <td>6426.674</td>\n",
       "      <td>0.64</td>\n",
       "    </tr>\n",
       "    <tr>\n",
       "      <th>801</th>\n",
       "      <td>India</td>\n",
       "      <td>4</td>\n",
       "      <td>413410</td>\n",
       "      <td>13055</td>\n",
       "      <td>98.643333</td>\n",
       "      <td>1380004385</td>\n",
       "      <td>6426.674</td>\n",
       "      <td>0.64</td>\n",
       "    </tr>\n",
       "    <tr>\n",
       "      <th>802</th>\n",
       "      <td>India</td>\n",
       "      <td>5</td>\n",
       "      <td>2939503</td>\n",
       "      <td>89793</td>\n",
       "      <td>82.078710</td>\n",
       "      <td>1380004385</td>\n",
       "      <td>6426.674</td>\n",
       "      <td>0.64</td>\n",
       "    </tr>\n",
       "    <tr>\n",
       "      <th>803</th>\n",
       "      <td>India</td>\n",
       "      <td>6</td>\n",
       "      <td>10558374</td>\n",
       "      <td>319690</td>\n",
       "      <td>76.280000</td>\n",
       "      <td>1380004385</td>\n",
       "      <td>6426.674</td>\n",
       "      <td>0.64</td>\n",
       "    </tr>\n",
       "    <tr>\n",
       "      <th>804</th>\n",
       "      <td>India</td>\n",
       "      <td>7</td>\n",
       "      <td>31726501</td>\n",
       "      <td>793511</td>\n",
       "      <td>76.702903</td>\n",
       "      <td>1380004385</td>\n",
       "      <td>6426.674</td>\n",
       "      <td>0.64</td>\n",
       "    </tr>\n",
       "    <tr>\n",
       "      <th>805</th>\n",
       "      <td>India</td>\n",
       "      <td>8</td>\n",
       "      <td>80749620</td>\n",
       "      <td>1553468</td>\n",
       "      <td>79.764516</td>\n",
       "      <td>1380004385</td>\n",
       "      <td>6426.674</td>\n",
       "      <td>0.64</td>\n",
       "    </tr>\n",
       "    <tr>\n",
       "      <th>806</th>\n",
       "      <td>India</td>\n",
       "      <td>9</td>\n",
       "      <td>149113758</td>\n",
       "      <td>2443314</td>\n",
       "      <td>79.105000</td>\n",
       "      <td>1380004385</td>\n",
       "      <td>6426.674</td>\n",
       "      <td>0.64</td>\n",
       "    </tr>\n",
       "    <tr>\n",
       "      <th>807</th>\n",
       "      <td>India</td>\n",
       "      <td>10</td>\n",
       "      <td>132261508</td>\n",
       "      <td>2034308</td>\n",
       "      <td>50.364737</td>\n",
       "      <td>1380004385</td>\n",
       "      <td>6426.674</td>\n",
       "      <td>0.64</td>\n",
       "    </tr>\n",
       "  </tbody>\n",
       "</table>\n",
       "</div>"
      ],
      "text/plain": [
       "    location  month  total_cases  total_deaths  stringency_index  population  \\\n",
       "798    India      1            2             0          2.151613  1380004385   \n",
       "799    India      2           83             0         10.190000  1380004385   \n",
       "800    India      3         8856           188         54.703871  1380004385   \n",
       "801    India      4       413410         13055         98.643333  1380004385   \n",
       "802    India      5      2939503         89793         82.078710  1380004385   \n",
       "803    India      6     10558374        319690         76.280000  1380004385   \n",
       "804    India      7     31726501        793511         76.702903  1380004385   \n",
       "805    India      8     80749620       1553468         79.764516  1380004385   \n",
       "806    India      9    149113758       2443314         79.105000  1380004385   \n",
       "807    India     10    132261508       2034308         50.364737  1380004385   \n",
       "\n",
       "     gdp_per_capita  human_development_index  \n",
       "798        6426.674                     0.64  \n",
       "799        6426.674                     0.64  \n",
       "800        6426.674                     0.64  \n",
       "801        6426.674                     0.64  \n",
       "802        6426.674                     0.64  \n",
       "803        6426.674                     0.64  \n",
       "804        6426.674                     0.64  \n",
       "805        6426.674                     0.64  \n",
       "806        6426.674                     0.64  \n",
       "807        6426.674                     0.64  "
      ]
     },
     "execution_count": 33,
     "metadata": {},
     "output_type": "execute_result"
    }
   ],
   "source": [
    "_df = df_grouped[df_grouped['location'] == 'India']\n",
    "_df.head(20)"
   ]
  },
  {
   "cell_type": "code",
   "execution_count": 74,
   "metadata": {
    "slideshow": {
     "slide_type": "skip"
    }
   },
   "outputs": [
    {
     "data": {
      "text/plain": [
       "<Figure size 720x576 with 0 Axes>"
      ]
     },
     "metadata": {},
     "output_type": "display_data"
    }
   ],
   "source": []
  },
  {
   "cell_type": "code",
   "execution_count": 76,
   "metadata": {
    "slideshow": {
     "slide_type": "subslide"
    }
   },
   "outputs": [
    {
     "data": {
      "image/png": "[encoded data removed]",
      "text/plain": [
       "<Figure size 720x576 with 3 Axes>"
      ]
     },
     "metadata": {
      "needs_background": "light"
     },
     "output_type": "display_data"
    }
   ],
   "source": [
    "fig = plt.figure(figsize=(10,8))\n",
    "ax1 = fig.add_subplot(2,2,1) \n",
    "ax1.plot(_df[\"month\"], _df[\"stringency_index\"], label=\"Stringency Index\")\n",
    "ax1.set_xlabel(\"Month's of 2020\", fontsize=20)\n",
    "ax1.set_ylabel(\"Stringency Index\", fontsize=20)\n",
    "ax1.set_title('Stringency Index PLOT', fontsize=20)\n",
    "ax2 = fig.add_subplot(2,2,2) \n",
    "ax2.plot(_df[\"month\"], _df[\"total_cases\"], label=\"Total Cases\")\n",
    "ax2.set_xlabel(\"Month's of 2020\", fontsize=20)\n",
    "ax2.set_ylabel(\"Total Cases\", fontsize=20)\n",
    "ax2.set_title('Total Cases Plot', fontsize=20)\n",
    "ax3 = fig.add_subplot(2,2,3) \n",
    "ax3.plot(_df[\"month\"], _df[\"total_deaths\"], label=\"Total Deaths\")\n",
    "ax3.set_xlabel(\"Month's of 2020\", fontsize=20)\n",
    "ax3.set_ylabel(\"Total Deaths\", fontsize=20)\n",
    "ax3.set_title('Total Deaths Plot', fontsize=20)\n",
    "plt.tight_layout()"
   ]
  },
  {
   "cell_type": "markdown",
   "metadata": {
    "slideshow": {
     "slide_type": "slide"
    }
   },
   "source": [
    "### Plot of Stringency Index and total_cases for the top 20 highly populated countries"
   ]
  },
  {
   "cell_type": "code",
   "execution_count": 35,
   "metadata": {
    "slideshow": {
     "slide_type": "subslide"
    }
   },
   "outputs": [
    {
     "data": {
      "image/png": "[encoded data removed]",
      "text/plain": [
       "<Figure size 360x360 with 1 Axes>"
      ]
     },
     "metadata": {
      "needs_background": "light"
     },
     "output_type": "display_data"
    }
   ],
   "source": [
    "fig, ax = plt.subplots()\n",
    "fig.set_size_inches(5, 5, forward=True)\n",
    "ax.scatter(df_selcoun['SI'], df_selcoun['total_cases'])\n",
    "ax.set_xlabel('Stringency Index', fontsize=20)\n",
    "ax.set_ylabel('Total Covid19 Cases', fontsize=20)\n",
    "ax.set_title('Stringency Index and Total Covid Cases', fontsize=20)\n",
    "ax.grid(which='both')\n",
    "plt.tight_layout()"
   ]
  },
  {
   "cell_type": "markdown",
   "metadata": {
    "slideshow": {
     "slide_type": "slide"
    }
   },
   "source": [
    "### Plot of Stringency Index and total_deaths for the top 20 highly populated countries"
   ]
  },
  {
   "cell_type": "code",
   "execution_count": 36,
   "metadata": {
    "scrolled": true,
    "slideshow": {
     "slide_type": "subslide"
    }
   },
   "outputs": [
    {
     "data": {
      "image/png": "[encoded data removed]",
      "text/plain": [
       "<Figure size 360x360 with 1 Axes>"
      ]
     },
     "metadata": {
      "needs_background": "light"
     },
     "output_type": "display_data"
    }
   ],
   "source": [
    "fig, ax = plt.subplots()\n",
    "fig.set_size_inches(5, 5, forward=True)\n",
    "# SI_sorted = df_selcoun.sort_values(\"SI\", ascending=False)\n",
    "ax.scatter(df_selcoun['SI'], df_selcoun['total_deaths'])\n",
    "ax.set_xlabel('Stringency Index', fontsize=20)\n",
    "ax.set_ylabel('total_deaths', fontsize=20)\n",
    "ax.set_title('Stringency Index and Total Deaths due to Covid', fontsize=20)\n",
    "ax.grid(which='both')\n",
    "plt.tight_layout()"
   ]
  },
  {
   "cell_type": "markdown",
   "metadata": {
    "slideshow": {
     "slide_type": "skip"
    }
   },
   "source": [
    "## Predictive Analysis"
   ]
  },
  {
   "cell_type": "code",
   "execution_count": 93,
   "metadata": {
    "slideshow": {
     "slide_type": "skip"
    }
   },
   "outputs": [
    {
     "data": {
      "text/html": [
       "<div>\n",
       "<style scoped>\n",
       "    .dataframe tbody tr th:only-of-type {\n",
       "        vertical-align: middle;\n",
       "    }\n",
       "\n",
       "    .dataframe tbody tr th {\n",
       "        vertical-align: top;\n",
       "    }\n",
       "\n",
       "    .dataframe thead th {\n",
       "        text-align: right;\n",
       "    }\n",
       "</style>\n",
       "<table border=\"1\" class=\"dataframe\">\n",
       "  <thead>\n",
       "    <tr style=\"text-align: right;\">\n",
       "      <th></th>\n",
       "      <th>Unnamed: 0</th>\n",
       "      <th>iso_code</th>\n",
       "      <th>loc</th>\n",
       "      <th>date</th>\n",
       "      <th>total_cases</th>\n",
       "      <th>total_deaths</th>\n",
       "      <th>SI</th>\n",
       "      <th>pop</th>\n",
       "      <th>GDP</th>\n",
       "      <th>HDI</th>\n",
       "      <th>month</th>\n",
       "      <th>year</th>\n",
       "    </tr>\n",
       "  </thead>\n",
       "  <tbody>\n",
       "    <tr>\n",
       "      <th>21453</th>\n",
       "      <td>21453</td>\n",
       "      <td>IND</td>\n",
       "      <td>India</td>\n",
       "      <td>2020-01-25</td>\n",
       "      <td>0</td>\n",
       "      <td>0</td>\n",
       "      <td>5.56</td>\n",
       "      <td>1380004385</td>\n",
       "      <td>6426.674</td>\n",
       "      <td>0.64</td>\n",
       "      <td>1</td>\n",
       "      <td>2020</td>\n",
       "    </tr>\n",
       "    <tr>\n",
       "      <th>21454</th>\n",
       "      <td>21454</td>\n",
       "      <td>IND</td>\n",
       "      <td>India</td>\n",
       "      <td>2020-01-26</td>\n",
       "      <td>0</td>\n",
       "      <td>0</td>\n",
       "      <td>10.19</td>\n",
       "      <td>1380004385</td>\n",
       "      <td>6426.674</td>\n",
       "      <td>0.64</td>\n",
       "      <td>1</td>\n",
       "      <td>2020</td>\n",
       "    </tr>\n",
       "    <tr>\n",
       "      <th>21455</th>\n",
       "      <td>21455</td>\n",
       "      <td>IND</td>\n",
       "      <td>India</td>\n",
       "      <td>2020-01-27</td>\n",
       "      <td>0</td>\n",
       "      <td>0</td>\n",
       "      <td>10.19</td>\n",
       "      <td>1380004385</td>\n",
       "      <td>6426.674</td>\n",
       "      <td>0.64</td>\n",
       "      <td>1</td>\n",
       "      <td>2020</td>\n",
       "    </tr>\n",
       "    <tr>\n",
       "      <th>21456</th>\n",
       "      <td>21456</td>\n",
       "      <td>IND</td>\n",
       "      <td>India</td>\n",
       "      <td>2020-01-28</td>\n",
       "      <td>0</td>\n",
       "      <td>0</td>\n",
       "      <td>10.19</td>\n",
       "      <td>1380004385</td>\n",
       "      <td>6426.674</td>\n",
       "      <td>0.64</td>\n",
       "      <td>1</td>\n",
       "      <td>2020</td>\n",
       "    </tr>\n",
       "    <tr>\n",
       "      <th>21457</th>\n",
       "      <td>21457</td>\n",
       "      <td>IND</td>\n",
       "      <td>India</td>\n",
       "      <td>2020-01-29</td>\n",
       "      <td>0</td>\n",
       "      <td>0</td>\n",
       "      <td>10.19</td>\n",
       "      <td>1380004385</td>\n",
       "      <td>6426.674</td>\n",
       "      <td>0.64</td>\n",
       "      <td>1</td>\n",
       "      <td>2020</td>\n",
       "    </tr>\n",
       "    <tr>\n",
       "      <th>...</th>\n",
       "      <td>...</td>\n",
       "      <td>...</td>\n",
       "      <td>...</td>\n",
       "      <td>...</td>\n",
       "      <td>...</td>\n",
       "      <td>...</td>\n",
       "      <td>...</td>\n",
       "      <td>...</td>\n",
       "      <td>...</td>\n",
       "      <td>...</td>\n",
       "      <td>...</td>\n",
       "      <td>...</td>\n",
       "    </tr>\n",
       "    <tr>\n",
       "      <th>21717</th>\n",
       "      <td>21717</td>\n",
       "      <td>IND</td>\n",
       "      <td>India</td>\n",
       "      <td>2020-10-15</td>\n",
       "      <td>7307097</td>\n",
       "      <td>111266</td>\n",
       "      <td>0.00</td>\n",
       "      <td>1380004385</td>\n",
       "      <td>6426.674</td>\n",
       "      <td>0.64</td>\n",
       "      <td>10</td>\n",
       "      <td>2020</td>\n",
       "    </tr>\n",
       "    <tr>\n",
       "      <th>21718</th>\n",
       "      <td>21718</td>\n",
       "      <td>IND</td>\n",
       "      <td>India</td>\n",
       "      <td>2020-10-16</td>\n",
       "      <td>7370468</td>\n",
       "      <td>112161</td>\n",
       "      <td>0.00</td>\n",
       "      <td>1380004385</td>\n",
       "      <td>6426.674</td>\n",
       "      <td>0.64</td>\n",
       "      <td>10</td>\n",
       "      <td>2020</td>\n",
       "    </tr>\n",
       "    <tr>\n",
       "      <th>21719</th>\n",
       "      <td>21719</td>\n",
       "      <td>IND</td>\n",
       "      <td>India</td>\n",
       "      <td>2020-10-17</td>\n",
       "      <td>7432680</td>\n",
       "      <td>112998</td>\n",
       "      <td>0.00</td>\n",
       "      <td>1380004385</td>\n",
       "      <td>6426.674</td>\n",
       "      <td>0.64</td>\n",
       "      <td>10</td>\n",
       "      <td>2020</td>\n",
       "    </tr>\n",
       "    <tr>\n",
       "      <th>21720</th>\n",
       "      <td>21720</td>\n",
       "      <td>IND</td>\n",
       "      <td>India</td>\n",
       "      <td>2020-10-18</td>\n",
       "      <td>7494551</td>\n",
       "      <td>114031</td>\n",
       "      <td>0.00</td>\n",
       "      <td>1380004385</td>\n",
       "      <td>6426.674</td>\n",
       "      <td>0.64</td>\n",
       "      <td>10</td>\n",
       "      <td>2020</td>\n",
       "    </tr>\n",
       "    <tr>\n",
       "      <th>21721</th>\n",
       "      <td>21721</td>\n",
       "      <td>IND</td>\n",
       "      <td>India</td>\n",
       "      <td>2020-10-19</td>\n",
       "      <td>7550273</td>\n",
       "      <td>114610</td>\n",
       "      <td>0.00</td>\n",
       "      <td>1380004385</td>\n",
       "      <td>6426.674</td>\n",
       "      <td>0.64</td>\n",
       "      <td>10</td>\n",
       "      <td>2020</td>\n",
       "    </tr>\n",
       "  </tbody>\n",
       "</table>\n",
       "<p>269 rows × 12 columns</p>\n",
       "</div>"
      ],
      "text/plain": [
       "       Unnamed: 0 iso_code    loc        date  total_cases  total_deaths  \\\n",
       "21453       21453      IND  India  2020-01-25            0             0   \n",
       "21454       21454      IND  India  2020-01-26            0             0   \n",
       "21455       21455      IND  India  2020-01-27            0             0   \n",
       "21456       21456      IND  India  2020-01-28            0             0   \n",
       "21457       21457      IND  India  2020-01-29            0             0   \n",
       "...           ...      ...    ...         ...          ...           ...   \n",
       "21717       21717      IND  India  2020-10-15      7307097        111266   \n",
       "21718       21718      IND  India  2020-10-16      7370468        112161   \n",
       "21719       21719      IND  India  2020-10-17      7432680        112998   \n",
       "21720       21720      IND  India  2020-10-18      7494551        114031   \n",
       "21721       21721      IND  India  2020-10-19      7550273        114610   \n",
       "\n",
       "          SI         pop       GDP   HDI  month  year  \n",
       "21453   5.56  1380004385  6426.674  0.64      1  2020  \n",
       "21454  10.19  1380004385  6426.674  0.64      1  2020  \n",
       "21455  10.19  1380004385  6426.674  0.64      1  2020  \n",
       "21456  10.19  1380004385  6426.674  0.64      1  2020  \n",
       "21457  10.19  1380004385  6426.674  0.64      1  2020  \n",
       "...      ...         ...       ...   ...    ...   ...  \n",
       "21717   0.00  1380004385  6426.674  0.64     10  2020  \n",
       "21718   0.00  1380004385  6426.674  0.64     10  2020  \n",
       "21719   0.00  1380004385  6426.674  0.64     10  2020  \n",
       "21720   0.00  1380004385  6426.674  0.64     10  2020  \n",
       "21721   0.00  1380004385  6426.674  0.64     10  2020  \n",
       "\n",
       "[269 rows x 12 columns]"
      ]
     },
     "execution_count": 93,
     "metadata": {},
     "output_type": "execute_result"
    }
   ],
   "source": [
    "## getting the dataset ready for the analysis\n",
    "pandemic_data = pd.read_csv('dataset/transformed_pandemic_data.csv')\n",
    "pandemic_data = pandemic_data.rename(columns = {'location':'loc', 'stringency_index': 'SI', 'population': 'pop', 'gdp_per_capita':'GDP', 'human_development_index': 'HDI'})\n",
    "index_names = pandemic_data[(pandemic_data['SI'] == 0.0) & (pandemic_data['total_deaths'] == 0) & (pandemic_data['total_cases'] == 0)].index\n",
    "pandemic_data.drop(index_names, inplace = True)\n",
    "\n",
    "# Filter out India's data\n",
    "\n",
    "india_pandemic_data = pandemic_data.loc[pandemic_data['loc'] == 'India']\n",
    "india_pandemic_data"
   ]
  },
  {
   "cell_type": "markdown",
   "metadata": {
    "slideshow": {
     "slide_type": "slide"
    }
   },
   "source": [
    "### Create a scatter plot to figure out the if there is a linear relationship between the two variables"
   ]
  },
  {
   "cell_type": "code",
   "execution_count": 105,
   "metadata": {
    "slideshow": {
     "slide_type": "fragment"
    }
   },
   "outputs": [
    {
     "data": {
      "image/png": "[encoded data removed]",
      "text/plain": [
       "<Figure size 720x576 with 1 Axes>"
      ]
     },
     "metadata": {
      "needs_background": "light"
     },
     "output_type": "display_data"
    }
   ],
   "source": [
    "fig, ax = plt.subplots()\n",
    "fig.set_size_inches(10, 8, forward=True)\n",
    "ax.scatter(pandemic_data['SI'], pandemic_data['GDP'])\n",
    "ax.set_xlabel('Stringency Index', fontsize=15)\n",
    "ax.set_ylabel('GDP per capita', fontsize=15)\n",
    "ax.set_title('Stringency Index and Reported Covid Cases', fontsize=18)\n",
    "ax.grid(which='both')\n",
    "plt.tight_layout()"
   ]
  },
  {
   "cell_type": "markdown",
   "metadata": {
    "slideshow": {
     "slide_type": "slide"
    }
   },
   "source": [
    "### Regression variable -\n",
    "    y is dependant\n",
    "    x is independant"
   ]
  },
  {
   "cell_type": "code",
   "execution_count": 106,
   "metadata": {
    "slideshow": {
     "slide_type": "fragment"
    }
   },
   "outputs": [],
   "source": [
    "x = pandemic_data['SI']\n",
    "y = pandemic_data['total_cases']"
   ]
  },
  {
   "cell_type": "code",
   "execution_count": 107,
   "metadata": {
    "slideshow": {
     "slide_type": "fragment"
    }
   },
   "outputs": [
    {
     "name": "stdout",
     "output_type": "stream",
     "text": [
      "[[75.  ]\n",
      " [54.63]\n",
      " [84.26]\n",
      " ...\n",
      " [48.15]\n",
      " [19.44]\n",
      " [40.74]]\n",
      "3670      6747\n",
      "31112      311\n",
      "40637       30\n",
      "39765    37136\n",
      "6522      1724\n",
      "         ...  \n",
      "13815    30502\n",
      "11690     5457\n",
      "32395     2224\n",
      "27668     4070\n",
      "21123    35222\n",
      "Name: total_cases, Length: 38640, dtype: int64\n"
     ]
    }
   ],
   "source": [
    "from sklearn.model_selection import train_test_split\n",
    "from sklearn.linear_model import LinearRegression\n",
    "\n",
    "model = LinearRegression()\n",
    "x_train, x_test, y_train, y_test = train_test_split(x,y, test_size=0.2, shuffle=True)\n",
    "x_train = x_train.values.reshape(-1, 1)\n",
    "x_test = x_test.values.reshape(-1, 1)\n",
    "\n",
    "print(x_train)\n",
    "print(y_train)"
   ]
  },
  {
   "cell_type": "code",
   "execution_count": 108,
   "metadata": {
    "slideshow": {
     "slide_type": "subslide"
    }
   },
   "outputs": [
    {
     "data": {
      "text/plain": [
       "LinearRegression()"
      ]
     },
     "execution_count": 108,
     "metadata": {},
     "output_type": "execute_result"
    }
   ],
   "source": [
    "model.fit(x_train, y_train)"
   ]
  },
  {
   "cell_type": "code",
   "execution_count": 109,
   "metadata": {
    "slideshow": {
     "slide_type": "fragment"
    }
   },
   "outputs": [
    {
     "data": {
      "text/plain": [
       "array([954.55368448])"
      ]
     },
     "execution_count": 109,
     "metadata": {},
     "output_type": "execute_result"
    }
   ],
   "source": [
    "model.coef_"
   ]
  },
  {
   "cell_type": "code",
   "execution_count": 110,
   "metadata": {
    "slideshow": {
     "slide_type": "fragment"
    }
   },
   "outputs": [
    {
     "data": {
      "text/plain": [
       "0.004329064252518888"
      ]
     },
     "execution_count": 110,
     "metadata": {},
     "output_type": "execute_result"
    }
   ],
   "source": [
    "model.score(x_train, y_train)"
   ]
  },
  {
   "cell_type": "markdown",
   "metadata": {
    "slideshow": {
     "slide_type": "subslide"
    }
   },
   "source": [
    "#### Fitting the dataset into Linear Regression Model"
   ]
  },
  {
   "cell_type": "code",
   "execution_count": 111,
   "metadata": {
    "slideshow": {
     "slide_type": "fragment"
    }
   },
   "outputs": [
    {
     "data": {
      "text/plain": [
       "LinearRegression()"
      ]
     },
     "execution_count": 111,
     "metadata": {},
     "output_type": "execute_result"
    }
   ],
   "source": [
    "from sklearn.linear_model import LinearRegression\n",
    "\n",
    "regressor=LinearRegression()\n",
    "regressor.fit(x_train,y_train)"
   ]
  },
  {
   "cell_type": "code",
   "execution_count": 112,
   "metadata": {
    "slideshow": {
     "slide_type": "fragment"
    }
   },
   "outputs": [
    {
     "data": {
      "text/plain": [
       "array([954.55368448])"
      ]
     },
     "execution_count": 112,
     "metadata": {},
     "output_type": "execute_result"
    }
   ],
   "source": [
    "# calculated co-efficients\n",
    "regressor.coef_"
   ]
  },
  {
   "cell_type": "code",
   "execution_count": 113,
   "metadata": {
    "slideshow": {
     "slide_type": "fragment"
    }
   },
   "outputs": [
    {
     "name": "stdout",
     "output_type": "stream",
     "text": [
      "[93935.19416789 65651.76849681 59466.2606214  ... 52393.01781942\n",
      " 13504.50071379 98354.77772702]\n"
     ]
    }
   ],
   "source": [
    "# predicting\n",
    "y_pred= regressor.predict(x_test) \n",
    "print(y_pred)"
   ]
  },
  {
   "cell_type": "code",
   "execution_count": 114,
   "metadata": {
    "slideshow": {
     "slide_type": "fragment"
    }
   },
   "outputs": [
    {
     "name": "stdout",
     "output_type": "stream",
     "text": [
      "Train Score:  0.004329064252518888\n",
      "Test Score:  0.004581496783675365\n"
     ]
    }
   ],
   "source": [
    "print('Train Score: ', regressor.score(x_train, y_train))  \n",
    "print('Test Score: ', regressor.score(x_test, y_test))"
   ]
  },
  {
   "cell_type": "code",
   "execution_count": 115,
   "metadata": {
    "slideshow": {
     "slide_type": "fragment"
    }
   },
   "outputs": [
    {
     "data": {
      "text/plain": [
       "151348274871.7726"
      ]
     },
     "execution_count": 115,
     "metadata": {},
     "output_type": "execute_result"
    }
   ],
   "source": [
    "from sklearn.metrics import mean_squared_error\n",
    "\n",
    "mean_squared_error(y_test,y_pred)"
   ]
  },
  {
   "cell_type": "code",
   "execution_count": null,
   "metadata": {},
   "outputs": [],
   "source": []
  },
  {
   "cell_type": "code",
   "execution_count": null,
   "metadata": {},
   "outputs": [],
   "source": []
  }
 ],
 "metadata": {
  "celltoolbar": "Slideshow",
  "kernelspec": {
   "display_name": "Python 3",
   "language": "python",
   "name": "python3"
  },
  "language_info": {
   "codemirror_mode": {
    "name": "ipython",
    "version": 3
   },
   "file_extension": ".py",
   "mimetype": "text/x-python",
   "name": "python",
   "nbconvert_exporter": "python",
   "pygments_lexer": "ipython3",
   "version": "3.8.5"
  },
  "rise": {
   "scroll": true
  }
 },
 "nbformat": 4,
 "nbformat_minor": 4
}
